{
 "cells": [
  {
   "cell_type": "code",
   "execution_count": 47,
   "metadata": {},
   "outputs": [],
   "source": [
    "library(SummarizedExperiment)\n",
    "library(VariantAnnotation)\n",
    "library(Rtsne)\n",
    "library(ggplot2)\n",
    "library(gplots)\n",
    "library(dplyr)\n",
    "library(irlba)"
   ]
  },
  {
   "cell_type": "code",
   "execution_count": 48,
   "metadata": {},
   "outputs": [
    {
     "data": {
      "text/plain": [
       "\n",
       "      .     0/0     0/1     0/2     0/3     1/1 \n",
       "    346 1434753    5506     199       9    5562 "
      ]
     },
     "metadata": {},
     "output_type": "display_data"
    }
   ],
   "source": [
    "vcf <- readRDS('~/Dropbox/mixed/original/Map_K10_VBC_CLI.whitelist.noindel.rds')\n",
    "GT <- geno(vcf)$GT\n",
    "table(c(GT))"
   ]
  },
  {
   "cell_type": "code",
   "execution_count": 49,
   "metadata": {},
   "outputs": [
    {
     "data": {
      "text/html": [
       "<table>\n",
       "<thead><tr><th></th><th scope=col>SeqID</th><th scope=col>SampleID</th><th scope=col>CowID</th><th scope=col>State</th><th scope=col>Farm</th><th scope=col>Type</th><th scope=col>Mix</th><th scope=col>Date</th><th scope=col>uniID</th><th scope=col>Type2</th><th scope=col>Type2_num</th><th scope=col>Contamination</th></tr></thead>\n",
       "<tbody>\n",
       "\t<tr><th scope=row>MAP129</th><td>MAP129                  </td><td>129                     </td><td>1283                    </td><td>NY                      </td><td> 9                      </td><td>tissue                  </td><td>1                       </td><td>2006                    </td><td>NY_1283                 </td><td>Ileum_20cm_from_IC_Valve</td><td>  4                     </td><td>0                       </td></tr>\n",
       "\t<tr><th scope=row>MAP381</th><td>MAP381                  </td><td>381                     </td><td>9999                    </td><td>VT                      </td><td>11                      </td><td>environmental           </td><td>0                       </td><td>2004                    </td><td>VT_9999                 </td><td>environmental           </td><td>100                     </td><td>0                       </td></tr>\n",
       "\t<tr><th scope=row>MAP350</th><td>MAP350                  </td><td>350                     </td><td> 228                    </td><td>PA                      </td><td>10                      </td><td>tissue                  </td><td>0                       </td><td>2008                    </td><td>PA_228                  </td><td>LymphNode2              </td><td>  6                     </td><td>0                       </td></tr>\n",
       "\t<tr><th scope=row>MAP022</th><td>MAP022                  </td><td> 22                     </td><td>1085                    </td><td>NY                      </td><td> 9                      </td><td>fecal                   </td><td>0                       </td><td>2004                    </td><td>NY_1085                 </td><td>fecal                   </td><td>  1                     </td><td>0                       </td></tr>\n",
       "\t<tr><th scope=row>MAP514</th><td>MAP514                  </td><td>514                     </td><td> 506                    </td><td>VT                      </td><td>11                      </td><td>fecal                   </td><td>0                       </td><td>2007                    </td><td>VT_506                  </td><td>fecal                   </td><td>  1                     </td><td>0                       </td></tr>\n",
       "\t<tr><th scope=row>MAP545</th><td>MAP545                  </td><td>545                     </td><td> 120                    </td><td>VT                      </td><td>11                      </td><td>tissue                  </td><td>0                       </td><td>2007                    </td><td>VT_120                  </td><td>Ileum_20cm_from_IC_Valve</td><td>  4                     </td><td>0                       </td></tr>\n",
       "</tbody>\n",
       "</table>\n"
      ],
      "text/latex": [
       "\\begin{tabular}{r|llllllllllll}\n",
       "  & SeqID & SampleID & CowID & State & Farm & Type & Mix & Date & uniID & Type2 & Type2\\_num & Contamination\\\\\n",
       "\\hline\n",
       "\tMAP129 & MAP129                           & 129                              & 1283                             & NY                               &  9                               & tissue                           & 1                                & 2006                             & NY\\_1283                        & Ileum\\_20cm\\_from\\_IC\\_Valve &   4                              & 0                               \\\\\n",
       "\tMAP381 & MAP381                   & 381                      & 9999                     & VT                       & 11                       & environmental            & 0                        & 2004                     & VT\\_9999                & environmental            & 100                      & 0                       \\\\\n",
       "\tMAP350 & MAP350                   & 350                      &  228                     & PA                       & 10                       & tissue                   & 0                        & 2008                     & PA\\_228                 & LymphNode2               &   6                      & 0                       \\\\\n",
       "\tMAP022 & MAP022                   &  22                      & 1085                     & NY                       &  9                       & fecal                    & 0                        & 2004                     & NY\\_1085                & fecal                    &   1                      & 0                       \\\\\n",
       "\tMAP514 & MAP514                   & 514                      &  506                     & VT                       & 11                       & fecal                    & 0                        & 2007                     & VT\\_506                 & fecal                    &   1                      & 0                       \\\\\n",
       "\tMAP545 & MAP545                           & 545                              &  120                             & VT                               & 11                               & tissue                           & 0                                & 2007                             & VT\\_120                         & Ileum\\_20cm\\_from\\_IC\\_Valve &   4                              & 0                               \\\\\n",
       "\\end{tabular}\n"
      ],
      "text/markdown": [
       "\n",
       "| <!--/--> | SeqID | SampleID | CowID | State | Farm | Type | Mix | Date | uniID | Type2 | Type2_num | Contamination |\n",
       "|---|---|---|---|---|---|---|---|---|---|---|---|---|\n",
       "| MAP129 | MAP129                   | 129                      | 1283                     | NY                       |  9                       | tissue                   | 1                        | 2006                     | NY_1283                  | Ileum_20cm_from_IC_Valve |   4                      | 0                        |\n",
       "| MAP381 | MAP381                   | 381                      | 9999                     | VT                       | 11                       | environmental            | 0                        | 2004                     | VT_9999                  | environmental            | 100                      | 0                        |\n",
       "| MAP350 | MAP350                   | 350                      |  228                     | PA                       | 10                       | tissue                   | 0                        | 2008                     | PA_228                   | LymphNode2               |   6                      | 0                        |\n",
       "| MAP022 | MAP022                   |  22                      | 1085                     | NY                       |  9                       | fecal                    | 0                        | 2004                     | NY_1085                  | fecal                    |   1                      | 0                        |\n",
       "| MAP514 | MAP514                   | 514                      |  506                     | VT                       | 11                       | fecal                    | 0                        | 2007                     | VT_506                   | fecal                    |   1                      | 0                        |\n",
       "| MAP545 | MAP545                   | 545                      |  120                     | VT                       | 11                       | tissue                   | 0                        | 2007                     | VT_120                   | Ileum_20cm_from_IC_Valve |   4                      | 0                        |\n",
       "\n"
      ],
      "text/plain": [
       "       SeqID  SampleID CowID State Farm Type          Mix Date uniID  \n",
       "MAP129 MAP129 129      1283  NY     9   tissue        1   2006 NY_1283\n",
       "MAP381 MAP381 381      9999  VT    11   environmental 0   2004 VT_9999\n",
       "MAP350 MAP350 350       228  PA    10   tissue        0   2008 PA_228 \n",
       "MAP022 MAP022  22      1085  NY     9   fecal         0   2004 NY_1085\n",
       "MAP514 MAP514 514       506  VT    11   fecal         0   2007 VT_506 \n",
       "MAP545 MAP545 545       120  VT    11   tissue        0   2007 VT_120 \n",
       "       Type2                    Type2_num Contamination\n",
       "MAP129 Ileum_20cm_from_IC_Valve   4       0            \n",
       "MAP381 environmental            100       0            \n",
       "MAP350 LymphNode2                 6       0            \n",
       "MAP022 fecal                      1       0            \n",
       "MAP514 fecal                      1       0            \n",
       "MAP545 Ileum_20cm_from_IC_Valve   4       0            "
      ]
     },
     "metadata": {},
     "output_type": "display_data"
    }
   ],
   "source": [
    "meta <- read.csv('~/Dropbox/mixed/meta/MetaDATAJohnes2.csv', header = TRUE)\n",
    "rownames(meta) <- meta$SeqID\n",
    "meta <- meta[colnames(vcf), ]\n",
    "head(meta)"
   ]
  },
  {
   "cell_type": "code",
   "execution_count": 50,
   "metadata": {},
   "outputs": [
    {
     "data": {
      "text/plain": [
       "\n",
       "  1   2   6   7   8   9  10  11 \n",
       " 38  27  18  16   7 179  49 191 "
      ]
     },
     "metadata": {},
     "output_type": "display_data"
    }
   ],
   "source": [
    "table(meta$Farm)"
   ]
  },
  {
   "cell_type": "code",
   "execution_count": 51,
   "metadata": {},
   "outputs": [
    {
     "data": {
      "text/plain": [
       "\n",
       "    0/0     0/1     1/1 \n",
       "1435099    5714    5562 "
      ]
     },
     "metadata": {},
     "output_type": "display_data"
    }
   ],
   "source": [
    "GT[GT %in% c('.')] <- '0/0' # missing values\n",
    "GT[GT%in% c('0/2', '0/3')] <- '0/1'\n",
    "table(c(GT))\n",
    "AO <- geno(vcf)$AO # alt read count\n",
    "DP <- geno(vcf)$DP\n",
    "is_dp_na <- is.na(DP)\n",
    "DP[is_dp_na] <- 0\n",
    "AO[is_dp_na] <- 0\n",
    "ao_len <- sapply(AO, length)\n",
    "mult <- which(ao_len > 1)\n",
    "AO[mult] <- sapply(AO[mult], max)\n",
    "AO <- matrix(unlist(AO), nrow = nrow(DP), ncol = ncol(DP))\n",
    "X <- AO / DP # alternative allele ratio\n",
    "X[is.na(X)] <- 0"
   ]
  },
  {
   "cell_type": "code",
   "execution_count": 52,
   "metadata": {},
   "outputs": [
    {
     "data": {
      "text/html": [
       "<table>\n",
       "<thead><tr><th></th><th scope=col>MAP129</th><th scope=col>MAP381</th><th scope=col>MAP350</th><th scope=col>MAP022</th><th scope=col>MAP514</th><th scope=col>MAP545</th><th scope=col>MAP401</th><th scope=col>MAP727</th><th scope=col>MAP153</th><th scope=col>MAP351</th><th scope=col>...</th><th scope=col>MAP517</th><th scope=col>MAP137</th><th scope=col>MAP944</th><th scope=col>MAP563</th><th scope=col>MAP143</th><th scope=col>MAP439</th><th scope=col>MAP380</th><th scope=col>MAP191</th><th scope=col>MAP006</th><th scope=col>MAP775</th></tr></thead>\n",
       "<tbody>\n",
       "\t<tr><th scope=row>Map_K10_VBC_CLI:48_C/A</th><td>0         </td><td>0.0000000 </td><td>0         </td><td>0         </td><td>0         </td><td>0         </td><td>0         </td><td>0.0000000 </td><td>0.00000000</td><td>0         </td><td>...       </td><td>0         </td><td>0         </td><td>0         </td><td>0.00000000</td><td>0         </td><td>0         </td><td>0         </td><td>0         </td><td>0.0000000 </td><td>0         </td></tr>\n",
       "\t<tr><th scope=row>Map_K10_VBC_CLI:288_G/A</th><td>0         </td><td>0.0000000 </td><td>0         </td><td>0         </td><td>0         </td><td>0         </td><td>0         </td><td>0.0000000 </td><td>0.00000000</td><td>0         </td><td>...       </td><td>0         </td><td>0         </td><td>0         </td><td>0.02631579</td><td>0         </td><td>0         </td><td>0         </td><td>0         </td><td>0.0000000 </td><td>0         </td></tr>\n",
       "\t<tr><th scope=row>Map_K10_VBC_CLI:356_C/T</th><td>0         </td><td>0.0000000 </td><td>0         </td><td>0         </td><td>0         </td><td>0         </td><td>0         </td><td>0.0000000 </td><td>0.00000000</td><td>0         </td><td>...       </td><td>0         </td><td>1         </td><td>0         </td><td>0.00000000</td><td>0         </td><td>0         </td><td>0         </td><td>0         </td><td>0.0000000 </td><td>0         </td></tr>\n",
       "\t<tr><th scope=row>Map_K10_VBC_CLI:752_T/C</th><td>1         </td><td>0.9897959 </td><td>1         </td><td>1         </td><td>1         </td><td>1         </td><td>1         </td><td>0.9939759 </td><td>1.00000000</td><td>1         </td><td>...       </td><td>1         </td><td>1         </td><td>1         </td><td>1.00000000</td><td>1         </td><td>1         </td><td>1         </td><td>1         </td><td>0.9834711 </td><td>1         </td></tr>\n",
       "\t<tr><th scope=row>Map_K10_VBC_CLI:787_A/G</th><td>0         </td><td>0.0000000 </td><td>0         </td><td>0         </td><td>0         </td><td>0         </td><td>0         </td><td>0.0000000 </td><td>0.02409639</td><td>0         </td><td>...       </td><td>0         </td><td>0         </td><td>0         </td><td>0.00000000</td><td>0         </td><td>0         </td><td>0         </td><td>0         </td><td>0.0000000 </td><td>0         </td></tr>\n",
       "\t<tr><th scope=row>Map_K10_VBC_CLI:798_C/A</th><td>0         </td><td>0.0000000 </td><td>0         </td><td>0         </td><td>0         </td><td>0         </td><td>0         </td><td>0.0000000 </td><td>0.00000000</td><td>0         </td><td>...       </td><td>0         </td><td>0         </td><td>0         </td><td>0.00000000</td><td>0         </td><td>0         </td><td>0         </td><td>0         </td><td>0.0000000 </td><td>0         </td></tr>\n",
       "</tbody>\n",
       "</table>\n"
      ],
      "text/latex": [
       "\\begin{tabular}{r|lllllllllllllllllllllllllllllllllllllllllllllllllllllllllllllllllllllllllllllllllllllllllllllllllllllllllllllllllllllllllllllllllllllllllllllllllllllllllllllllllllllllllllllllllllllllllllllllllllllllllllllllllllllllllllllllllllllllllllllllllllllllllllllllllllllllllllllllllllllllllllllllllllllllllllllllllllllllllllllllllllllllllllllllllllllllllllllllllllllllllllllllllllllllllllllllllllllllllllllllllllllllllllllllllllllllllllllllllllllllllllllllllllllllllllllllllllllllllllllllllllllllllllllllllllllllllllllllllllllllllllll}\n",
       "  & MAP129 & MAP381 & MAP350 & MAP022 & MAP514 & MAP545 & MAP401 & MAP727 & MAP153 & MAP351 & ... & MAP517 & MAP137 & MAP944 & MAP563 & MAP143 & MAP439 & MAP380 & MAP191 & MAP006 & MAP775\\\\\n",
       "\\hline\n",
       "\tMap\\_K10\\_VBC\\_CLI:48\\_C/A & 0          & 0.0000000  & 0          & 0          & 0          & 0          & 0          & 0.0000000  & 0.00000000 & 0          & ...        & 0          & 0          & 0          & 0.00000000 & 0          & 0          & 0          & 0          & 0.0000000  & 0         \\\\\n",
       "\tMap\\_K10\\_VBC\\_CLI:288\\_G/A & 0          & 0.0000000  & 0          & 0          & 0          & 0          & 0          & 0.0000000  & 0.00000000 & 0          & ...        & 0          & 0          & 0          & 0.02631579 & 0          & 0          & 0          & 0          & 0.0000000  & 0         \\\\\n",
       "\tMap\\_K10\\_VBC\\_CLI:356\\_C/T & 0          & 0.0000000  & 0          & 0          & 0          & 0          & 0          & 0.0000000  & 0.00000000 & 0          & ...        & 0          & 1          & 0          & 0.00000000 & 0          & 0          & 0          & 0          & 0.0000000  & 0         \\\\\n",
       "\tMap\\_K10\\_VBC\\_CLI:752\\_T/C & 1          & 0.9897959  & 1          & 1          & 1          & 1          & 1          & 0.9939759  & 1.00000000 & 1          & ...        & 1          & 1          & 1          & 1.00000000 & 1          & 1          & 1          & 1          & 0.9834711  & 1         \\\\\n",
       "\tMap\\_K10\\_VBC\\_CLI:787\\_A/G & 0          & 0.0000000  & 0          & 0          & 0          & 0          & 0          & 0.0000000  & 0.02409639 & 0          & ...        & 0          & 0          & 0          & 0.00000000 & 0          & 0          & 0          & 0          & 0.0000000  & 0         \\\\\n",
       "\tMap\\_K10\\_VBC\\_CLI:798\\_C/A & 0          & 0.0000000  & 0          & 0          & 0          & 0          & 0          & 0.0000000  & 0.00000000 & 0          & ...        & 0          & 0          & 0          & 0.00000000 & 0          & 0          & 0          & 0          & 0.0000000  & 0         \\\\\n",
       "\\end{tabular}\n"
      ],
      "text/markdown": [
       "\n",
       "| <!--/--> | MAP129 | MAP381 | MAP350 | MAP022 | MAP514 | MAP545 | MAP401 | MAP727 | MAP153 | MAP351 | ... | MAP517 | MAP137 | MAP944 | MAP563 | MAP143 | MAP439 | MAP380 | MAP191 | MAP006 | MAP775 |\n",
       "|---|---|---|---|---|---|---|---|---|---|---|---|---|---|---|---|---|---|---|---|---|---|\n",
       "| Map_K10_VBC_CLI:48_C/A | 0          | 0.0000000  | 0          | 0          | 0          | 0          | 0          | 0.0000000  | 0.00000000 | 0          | ...        | 0          | 0          | 0          | 0.00000000 | 0          | 0          | 0          | 0          | 0.0000000  | 0          |\n",
       "| Map_K10_VBC_CLI:288_G/A | 0          | 0.0000000  | 0          | 0          | 0          | 0          | 0          | 0.0000000  | 0.00000000 | 0          | ...        | 0          | 0          | 0          | 0.02631579 | 0          | 0          | 0          | 0          | 0.0000000  | 0          |\n",
       "| Map_K10_VBC_CLI:356_C/T | 0          | 0.0000000  | 0          | 0          | 0          | 0          | 0          | 0.0000000  | 0.00000000 | 0          | ...        | 0          | 1          | 0          | 0.00000000 | 0          | 0          | 0          | 0          | 0.0000000  | 0          |\n",
       "| Map_K10_VBC_CLI:752_T/C | 1          | 0.9897959  | 1          | 1          | 1          | 1          | 1          | 0.9939759  | 1.00000000 | 1          | ...        | 1          | 1          | 1          | 1.00000000 | 1          | 1          | 1          | 1          | 0.9834711  | 1          |\n",
       "| Map_K10_VBC_CLI:787_A/G | 0          | 0.0000000  | 0          | 0          | 0          | 0          | 0          | 0.0000000  | 0.02409639 | 0          | ...        | 0          | 0          | 0          | 0.00000000 | 0          | 0          | 0          | 0          | 0.0000000  | 0          |\n",
       "| Map_K10_VBC_CLI:798_C/A | 0          | 0.0000000  | 0          | 0          | 0          | 0          | 0          | 0.0000000  | 0.00000000 | 0          | ...        | 0          | 0          | 0          | 0.00000000 | 0          | 0          | 0          | 0          | 0.0000000  | 0          |\n",
       "\n"
      ],
      "text/plain": [
       "                        MAP129 MAP381    MAP350 MAP022 MAP514 MAP545 MAP401\n",
       "Map_K10_VBC_CLI:48_C/A  0      0.0000000 0      0      0      0      0     \n",
       "Map_K10_VBC_CLI:288_G/A 0      0.0000000 0      0      0      0      0     \n",
       "Map_K10_VBC_CLI:356_C/T 0      0.0000000 0      0      0      0      0     \n",
       "Map_K10_VBC_CLI:752_T/C 1      0.9897959 1      1      1      1      1     \n",
       "Map_K10_VBC_CLI:787_A/G 0      0.0000000 0      0      0      0      0     \n",
       "Map_K10_VBC_CLI:798_C/A 0      0.0000000 0      0      0      0      0     \n",
       "                        MAP727    MAP153     MAP351 ... MAP517 MAP137 MAP944\n",
       "Map_K10_VBC_CLI:48_C/A  0.0000000 0.00000000 0      ... 0      0      0     \n",
       "Map_K10_VBC_CLI:288_G/A 0.0000000 0.00000000 0      ... 0      0      0     \n",
       "Map_K10_VBC_CLI:356_C/T 0.0000000 0.00000000 0      ... 0      1      0     \n",
       "Map_K10_VBC_CLI:752_T/C 0.9939759 1.00000000 1      ... 1      1      1     \n",
       "Map_K10_VBC_CLI:787_A/G 0.0000000 0.02409639 0      ... 0      0      0     \n",
       "Map_K10_VBC_CLI:798_C/A 0.0000000 0.00000000 0      ... 0      0      0     \n",
       "                        MAP563     MAP143 MAP439 MAP380 MAP191 MAP006    MAP775\n",
       "Map_K10_VBC_CLI:48_C/A  0.00000000 0      0      0      0      0.0000000 0     \n",
       "Map_K10_VBC_CLI:288_G/A 0.02631579 0      0      0      0      0.0000000 0     \n",
       "Map_K10_VBC_CLI:356_C/T 0.00000000 0      0      0      0      0.0000000 0     \n",
       "Map_K10_VBC_CLI:752_T/C 1.00000000 1      1      1      1      0.9834711 1     \n",
       "Map_K10_VBC_CLI:787_A/G 0.00000000 0      0      0      0      0.0000000 0     \n",
       "Map_K10_VBC_CLI:798_C/A 0.00000000 0      0      0      0      0.0000000 0     "
      ]
     },
     "metadata": {},
     "output_type": "display_data"
    },
    {
     "data": {
      "text/html": [
       "<ol class=list-inline>\n",
       "\t<li>2755</li>\n",
       "\t<li>525</li>\n",
       "</ol>\n"
      ],
      "text/latex": [
       "\\begin{enumerate*}\n",
       "\\item 2755\n",
       "\\item 525\n",
       "\\end{enumerate*}\n"
      ],
      "text/markdown": [
       "1. 2755\n",
       "2. 525\n",
       "\n",
       "\n"
      ],
      "text/plain": [
       "[1] 2755  525"
      ]
     },
     "metadata": {},
     "output_type": "display_data"
    }
   ],
   "source": [
    "head(X)\n",
    "dim(X)"
   ]
  },
  {
   "cell_type": "code",
   "execution_count": 53,
   "metadata": {},
   "outputs": [
    {
     "data": {
      "text/html": [
       "<table>\n",
       "<thead><tr><th></th><th scope=col>MAP727</th><th scope=col>MAP879</th><th scope=col>MAP792</th><th scope=col>MAP897</th><th scope=col>MAP766</th><th scope=col>MAP785</th><th scope=col>MAP776</th><th scope=col>MAP779</th><th scope=col>MAP705</th><th scope=col>MAP789</th><th scope=col>...</th><th scope=col>MAP733</th><th scope=col>MAP741</th><th scope=col>MAP732</th><th scope=col>MAP888</th><th scope=col>MAP942</th><th scope=col>MAP901</th><th scope=col>MAP880</th><th scope=col>MAP886</th><th scope=col>MAP944</th><th scope=col>MAP775</th></tr></thead>\n",
       "<tbody>\n",
       "\t<tr><th scope=row>Map_K10_VBC_CLI:48_C/A</th><td>0.0000000  </td><td>0.00000000 </td><td>0          </td><td>0.0000000  </td><td>0          </td><td>0          </td><td>0          </td><td>0          </td><td>0          </td><td>0          </td><td>...        </td><td>0          </td><td>0          </td><td>0.000000000</td><td>0.000000000</td><td>0.0000000  </td><td>0          </td><td>0.000000000</td><td>0          </td><td>0          </td><td>0          </td></tr>\n",
       "\t<tr><th scope=row>Map_K10_VBC_CLI:288_G/A</th><td>0.0000000  </td><td>0.00000000 </td><td>0          </td><td>0.0000000  </td><td>0          </td><td>0          </td><td>0          </td><td>0          </td><td>0          </td><td>0          </td><td>...        </td><td>0          </td><td>0          </td><td>0.000000000</td><td>0.000000000</td><td>0.0000000  </td><td>0          </td><td>0.007142857</td><td>0          </td><td>0          </td><td>0          </td></tr>\n",
       "\t<tr><th scope=row>Map_K10_VBC_CLI:356_C/T</th><td>0.0000000  </td><td>0.01190476 </td><td>0          </td><td>0.0000000  </td><td>0          </td><td>0          </td><td>0          </td><td>0          </td><td>0          </td><td>0          </td><td>...        </td><td>0          </td><td>0          </td><td>0.000000000</td><td>0.000000000</td><td>0.0000000  </td><td>0          </td><td>0.000000000</td><td>0          </td><td>0          </td><td>0          </td></tr>\n",
       "\t<tr><th scope=row>Map_K10_VBC_CLI:752_T/C</th><td>0.9939759  </td><td>1.00000000 </td><td>1          </td><td>0.9962121  </td><td>1          </td><td>1          </td><td>1          </td><td>1          </td><td>1          </td><td>1          </td><td>...        </td><td>1          </td><td>1          </td><td>0.979865772</td><td>1.000000000</td><td>0.9917012  </td><td>1          </td><td>1.000000000</td><td>1          </td><td>1          </td><td>1          </td></tr>\n",
       "\t<tr><th scope=row>Map_K10_VBC_CLI:787_A/G</th><td>0.0000000  </td><td>0.00000000 </td><td>0          </td><td>0.0000000  </td><td>0          </td><td>0          </td><td>0          </td><td>0          </td><td>0          </td><td>0          </td><td>...        </td><td>0          </td><td>0          </td><td>0.006802721</td><td>0.003831418</td><td>0.0000000  </td><td>0          </td><td>0.000000000</td><td>0          </td><td>0          </td><td>0          </td></tr>\n",
       "\t<tr><th scope=row>Map_K10_VBC_CLI:798_C/A</th><td>0.0000000  </td><td>0.00000000 </td><td>0          </td><td>0.0000000  </td><td>0          </td><td>0          </td><td>0          </td><td>0          </td><td>0          </td><td>0          </td><td>...        </td><td>0          </td><td>0          </td><td>0.000000000</td><td>0.000000000</td><td>0.0000000  </td><td>0          </td><td>0.004405286</td><td>0          </td><td>0          </td><td>0          </td></tr>\n",
       "</tbody>\n",
       "</table>\n"
      ],
      "text/latex": [
       "\\begin{tabular}{r|llllllllllllllllllllllllllllllllllllllllllllllllllllllllllllllllllllllllllllllllllllllllllllllllllllllllll}\n",
       "  & MAP727 & MAP879 & MAP792 & MAP897 & MAP766 & MAP785 & MAP776 & MAP779 & MAP705 & MAP789 & ... & MAP733 & MAP741 & MAP732 & MAP888 & MAP942 & MAP901 & MAP880 & MAP886 & MAP944 & MAP775\\\\\n",
       "\\hline\n",
       "\tMap\\_K10\\_VBC\\_CLI:48\\_C/A & 0.0000000   & 0.00000000  & 0           & 0.0000000   & 0           & 0           & 0           & 0           & 0           & 0           & ...         & 0           & 0           & 0.000000000 & 0.000000000 & 0.0000000   & 0           & 0.000000000 & 0           & 0           & 0          \\\\\n",
       "\tMap\\_K10\\_VBC\\_CLI:288\\_G/A & 0.0000000   & 0.00000000  & 0           & 0.0000000   & 0           & 0           & 0           & 0           & 0           & 0           & ...         & 0           & 0           & 0.000000000 & 0.000000000 & 0.0000000   & 0           & 0.007142857 & 0           & 0           & 0          \\\\\n",
       "\tMap\\_K10\\_VBC\\_CLI:356\\_C/T & 0.0000000   & 0.01190476  & 0           & 0.0000000   & 0           & 0           & 0           & 0           & 0           & 0           & ...         & 0           & 0           & 0.000000000 & 0.000000000 & 0.0000000   & 0           & 0.000000000 & 0           & 0           & 0          \\\\\n",
       "\tMap\\_K10\\_VBC\\_CLI:752\\_T/C & 0.9939759   & 1.00000000  & 1           & 0.9962121   & 1           & 1           & 1           & 1           & 1           & 1           & ...         & 1           & 1           & 0.979865772 & 1.000000000 & 0.9917012   & 1           & 1.000000000 & 1           & 1           & 1          \\\\\n",
       "\tMap\\_K10\\_VBC\\_CLI:787\\_A/G & 0.0000000   & 0.00000000  & 0           & 0.0000000   & 0           & 0           & 0           & 0           & 0           & 0           & ...         & 0           & 0           & 0.006802721 & 0.003831418 & 0.0000000   & 0           & 0.000000000 & 0           & 0           & 0          \\\\\n",
       "\tMap\\_K10\\_VBC\\_CLI:798\\_C/A & 0.0000000   & 0.00000000  & 0           & 0.0000000   & 0           & 0           & 0           & 0           & 0           & 0           & ...         & 0           & 0           & 0.000000000 & 0.000000000 & 0.0000000   & 0           & 0.004405286 & 0           & 0           & 0          \\\\\n",
       "\\end{tabular}\n"
      ],
      "text/markdown": [
       "\n",
       "| <!--/--> | MAP727 | MAP879 | MAP792 | MAP897 | MAP766 | MAP785 | MAP776 | MAP779 | MAP705 | MAP789 | ... | MAP733 | MAP741 | MAP732 | MAP888 | MAP942 | MAP901 | MAP880 | MAP886 | MAP944 | MAP775 |\n",
       "|---|---|---|---|---|---|---|---|---|---|---|---|---|---|---|---|---|---|---|---|---|---|\n",
       "| Map_K10_VBC_CLI:48_C/A | 0.0000000   | 0.00000000  | 0           | 0.0000000   | 0           | 0           | 0           | 0           | 0           | 0           | ...         | 0           | 0           | 0.000000000 | 0.000000000 | 0.0000000   | 0           | 0.000000000 | 0           | 0           | 0           |\n",
       "| Map_K10_VBC_CLI:288_G/A | 0.0000000   | 0.00000000  | 0           | 0.0000000   | 0           | 0           | 0           | 0           | 0           | 0           | ...         | 0           | 0           | 0.000000000 | 0.000000000 | 0.0000000   | 0           | 0.007142857 | 0           | 0           | 0           |\n",
       "| Map_K10_VBC_CLI:356_C/T | 0.0000000   | 0.01190476  | 0           | 0.0000000   | 0           | 0           | 0           | 0           | 0           | 0           | ...         | 0           | 0           | 0.000000000 | 0.000000000 | 0.0000000   | 0           | 0.000000000 | 0           | 0           | 0           |\n",
       "| Map_K10_VBC_CLI:752_T/C | 0.9939759   | 1.00000000  | 1           | 0.9962121   | 1           | 1           | 1           | 1           | 1           | 1           | ...         | 1           | 1           | 0.979865772 | 1.000000000 | 0.9917012   | 1           | 1.000000000 | 1           | 1           | 1           |\n",
       "| Map_K10_VBC_CLI:787_A/G | 0.0000000   | 0.00000000  | 0           | 0.0000000   | 0           | 0           | 0           | 0           | 0           | 0           | ...         | 0           | 0           | 0.006802721 | 0.003831418 | 0.0000000   | 0           | 0.000000000 | 0           | 0           | 0           |\n",
       "| Map_K10_VBC_CLI:798_C/A | 0.0000000   | 0.00000000  | 0           | 0.0000000   | 0           | 0           | 0           | 0           | 0           | 0           | ...         | 0           | 0           | 0.000000000 | 0.000000000 | 0.0000000   | 0           | 0.004405286 | 0           | 0           | 0           |\n",
       "\n"
      ],
      "text/plain": [
       "                        MAP727    MAP879     MAP792 MAP897    MAP766 MAP785\n",
       "Map_K10_VBC_CLI:48_C/A  0.0000000 0.00000000 0      0.0000000 0      0     \n",
       "Map_K10_VBC_CLI:288_G/A 0.0000000 0.00000000 0      0.0000000 0      0     \n",
       "Map_K10_VBC_CLI:356_C/T 0.0000000 0.01190476 0      0.0000000 0      0     \n",
       "Map_K10_VBC_CLI:752_T/C 0.9939759 1.00000000 1      0.9962121 1      1     \n",
       "Map_K10_VBC_CLI:787_A/G 0.0000000 0.00000000 0      0.0000000 0      0     \n",
       "Map_K10_VBC_CLI:798_C/A 0.0000000 0.00000000 0      0.0000000 0      0     \n",
       "                        MAP776 MAP779 MAP705 MAP789 ... MAP733 MAP741\n",
       "Map_K10_VBC_CLI:48_C/A  0      0      0      0      ... 0      0     \n",
       "Map_K10_VBC_CLI:288_G/A 0      0      0      0      ... 0      0     \n",
       "Map_K10_VBC_CLI:356_C/T 0      0      0      0      ... 0      0     \n",
       "Map_K10_VBC_CLI:752_T/C 1      1      1      1      ... 1      1     \n",
       "Map_K10_VBC_CLI:787_A/G 0      0      0      0      ... 0      0     \n",
       "Map_K10_VBC_CLI:798_C/A 0      0      0      0      ... 0      0     \n",
       "                        MAP732      MAP888      MAP942    MAP901 MAP880     \n",
       "Map_K10_VBC_CLI:48_C/A  0.000000000 0.000000000 0.0000000 0      0.000000000\n",
       "Map_K10_VBC_CLI:288_G/A 0.000000000 0.000000000 0.0000000 0      0.007142857\n",
       "Map_K10_VBC_CLI:356_C/T 0.000000000 0.000000000 0.0000000 0      0.000000000\n",
       "Map_K10_VBC_CLI:752_T/C 0.979865772 1.000000000 0.9917012 1      1.000000000\n",
       "Map_K10_VBC_CLI:787_A/G 0.006802721 0.003831418 0.0000000 0      0.000000000\n",
       "Map_K10_VBC_CLI:798_C/A 0.000000000 0.000000000 0.0000000 0      0.004405286\n",
       "                        MAP886 MAP944 MAP775\n",
       "Map_K10_VBC_CLI:48_C/A  0      0      0     \n",
       "Map_K10_VBC_CLI:288_G/A 0      0      0     \n",
       "Map_K10_VBC_CLI:356_C/T 0      0      0     \n",
       "Map_K10_VBC_CLI:752_T/C 1      1      1     \n",
       "Map_K10_VBC_CLI:787_A/G 0      0      0     \n",
       "Map_K10_VBC_CLI:798_C/A 0      0      0     "
      ]
     },
     "metadata": {},
     "output_type": "display_data"
    }
   ],
   "source": [
    "X_selected <- X[,meta$State == 'MN']\n",
    "meta_selected <- meta[which(meta$State == 'MN'),]\n",
    "head(X_selected)"
   ]
  },
  {
   "cell_type": "code",
   "execution_count": 54,
   "metadata": {},
   "outputs": [
    {
     "data": {
      "text/html": [
       "<ol class=list-inline>\n",
       "\t<li>2755</li>\n",
       "\t<li>106</li>\n",
       "</ol>\n"
      ],
      "text/latex": [
       "\\begin{enumerate*}\n",
       "\\item 2755\n",
       "\\item 106\n",
       "\\end{enumerate*}\n"
      ],
      "text/markdown": [
       "1. 2755\n",
       "2. 106\n",
       "\n",
       "\n"
      ],
      "text/plain": [
       "[1] 2755  106"
      ]
     },
     "metadata": {},
     "output_type": "display_data"
    }
   ],
   "source": [
    "dim(X_selected)"
   ]
  },
  {
   "cell_type": "code",
   "execution_count": 55,
   "metadata": {},
   "outputs": [
    {
     "data": {
      "text/html": [
       "<table>\n",
       "<thead><tr><th></th><th scope=col>SeqID</th><th scope=col>SampleID</th><th scope=col>CowID</th><th scope=col>State</th><th scope=col>Farm</th><th scope=col>Type</th><th scope=col>Mix</th><th scope=col>Date</th><th scope=col>uniID</th><th scope=col>Type2</th><th scope=col>Type2_num</th><th scope=col>Contamination</th></tr></thead>\n",
       "<tbody>\n",
       "\t<tr><th scope=row>MAP727</th><td>MAP727       </td><td>727          </td><td>1950         </td><td>MN           </td><td>1            </td><td>fecal        </td><td>0            </td><td>2007         </td><td>MN_1950      </td><td>fecal        </td><td>1            </td><td>0            </td></tr>\n",
       "\t<tr><th scope=row>MAP879</th><td>MAP879       </td><td>879          </td><td>9999         </td><td>MN           </td><td>6            </td><td>environmental</td><td>0            </td><td>2005         </td><td>MN_9999      </td><td>fecal        </td><td>1            </td><td>0            </td></tr>\n",
       "\t<tr><th scope=row>MAP792</th><td>MAP792       </td><td>792          </td><td>  39         </td><td>MN           </td><td>2            </td><td>fecal        </td><td>0            </td><td>2008         </td><td>MN_39        </td><td>fecal        </td><td>1            </td><td>0            </td></tr>\n",
       "\t<tr><th scope=row>MAP897</th><td>MAP897       </td><td>897          </td><td>  61         </td><td>MN           </td><td>6            </td><td>fecal        </td><td>0            </td><td>2007         </td><td>MN_61        </td><td>fecal        </td><td>1            </td><td>0            </td></tr>\n",
       "\t<tr><th scope=row>MAP766</th><td>MAP766       </td><td>766          </td><td> 997         </td><td>MN           </td><td>2            </td><td>fecal        </td><td>0            </td><td>2005         </td><td>MN_997       </td><td>fecal        </td><td>1            </td><td>0            </td></tr>\n",
       "\t<tr><th scope=row>MAP785</th><td>MAP785       </td><td>785          </td><td> 267         </td><td>MN           </td><td>2            </td><td>fecal        </td><td>0            </td><td>2007         </td><td>MN_267       </td><td>fecal        </td><td>1            </td><td>0            </td></tr>\n",
       "</tbody>\n",
       "</table>\n"
      ],
      "text/latex": [
       "\\begin{tabular}{r|llllllllllll}\n",
       "  & SeqID & SampleID & CowID & State & Farm & Type & Mix & Date & uniID & Type2 & Type2\\_num & Contamination\\\\\n",
       "\\hline\n",
       "\tMAP727 & MAP727        & 727           & 1950          & MN            & 1             & fecal         & 0             & 2007          & MN\\_1950     & fecal         & 1             & 0            \\\\\n",
       "\tMAP879 & MAP879        & 879           & 9999          & MN            & 6             & environmental & 0             & 2005          & MN\\_9999     & fecal         & 1             & 0            \\\\\n",
       "\tMAP792 & MAP792        & 792           &   39          & MN            & 2             & fecal         & 0             & 2008          & MN\\_39       & fecal         & 1             & 0            \\\\\n",
       "\tMAP897 & MAP897        & 897           &   61          & MN            & 6             & fecal         & 0             & 2007          & MN\\_61       & fecal         & 1             & 0            \\\\\n",
       "\tMAP766 & MAP766        & 766           &  997          & MN            & 2             & fecal         & 0             & 2005          & MN\\_997      & fecal         & 1             & 0            \\\\\n",
       "\tMAP785 & MAP785        & 785           &  267          & MN            & 2             & fecal         & 0             & 2007          & MN\\_267      & fecal         & 1             & 0            \\\\\n",
       "\\end{tabular}\n"
      ],
      "text/markdown": [
       "\n",
       "| <!--/--> | SeqID | SampleID | CowID | State | Farm | Type | Mix | Date | uniID | Type2 | Type2_num | Contamination |\n",
       "|---|---|---|---|---|---|---|---|---|---|---|---|---|\n",
       "| MAP727 | MAP727        | 727           | 1950          | MN            | 1             | fecal         | 0             | 2007          | MN_1950       | fecal         | 1             | 0             |\n",
       "| MAP879 | MAP879        | 879           | 9999          | MN            | 6             | environmental | 0             | 2005          | MN_9999       | fecal         | 1             | 0             |\n",
       "| MAP792 | MAP792        | 792           |   39          | MN            | 2             | fecal         | 0             | 2008          | MN_39         | fecal         | 1             | 0             |\n",
       "| MAP897 | MAP897        | 897           |   61          | MN            | 6             | fecal         | 0             | 2007          | MN_61         | fecal         | 1             | 0             |\n",
       "| MAP766 | MAP766        | 766           |  997          | MN            | 2             | fecal         | 0             | 2005          | MN_997        | fecal         | 1             | 0             |\n",
       "| MAP785 | MAP785        | 785           |  267          | MN            | 2             | fecal         | 0             | 2007          | MN_267        | fecal         | 1             | 0             |\n",
       "\n"
      ],
      "text/plain": [
       "       SeqID  SampleID CowID State Farm Type          Mix Date uniID   Type2\n",
       "MAP727 MAP727 727      1950  MN    1    fecal         0   2007 MN_1950 fecal\n",
       "MAP879 MAP879 879      9999  MN    6    environmental 0   2005 MN_9999 fecal\n",
       "MAP792 MAP792 792        39  MN    2    fecal         0   2008 MN_39   fecal\n",
       "MAP897 MAP897 897        61  MN    6    fecal         0   2007 MN_61   fecal\n",
       "MAP766 MAP766 766       997  MN    2    fecal         0   2005 MN_997  fecal\n",
       "MAP785 MAP785 785       267  MN    2    fecal         0   2007 MN_267  fecal\n",
       "       Type2_num Contamination\n",
       "MAP727 1         0            \n",
       "MAP879 1         0            \n",
       "MAP792 1         0            \n",
       "MAP897 1         0            \n",
       "MAP766 1         0            \n",
       "MAP785 1         0            "
      ]
     },
     "metadata": {},
     "output_type": "display_data"
    }
   ],
   "source": [
    "head(meta_selected)"
   ]
  },
  {
   "cell_type": "code",
   "execution_count": 56,
   "metadata": {},
   "outputs": [
    {
     "name": "stdout",
     "output_type": "stream",
     "text": [
      "     AA  AB  BB                      snp_id\n",
      "1   523   0   2    Map_K10_VBC_CLI:6008_C/T\n",
      "2   523   0   2    Map_K10_VBC_CLI:9890_C/T\n",
      "3   523   0   2   Map_K10_VBC_CLI:10583_G/A\n",
      "4   518   0   7   Map_K10_VBC_CLI:16181_A/G\n",
      "5   522   0   3   Map_K10_VBC_CLI:23889_T/C\n",
      "6   523   0   2   Map_K10_VBC_CLI:28335_G/A\n",
      "7   519   0   6   Map_K10_VBC_CLI:44054_G/T\n",
      "8   515   0  10   Map_K10_VBC_CLI:46975_T/C\n",
      "9   523   0   2   Map_K10_VBC_CLI:49215_A/G\n",
      "10  517   0   8   Map_K10_VBC_CLI:53592_C/T\n",
      "11  519   0   6   Map_K10_VBC_CLI:60682_C/T\n",
      "12  521   0   4   Map_K10_VBC_CLI:71014_A/G\n",
      "13  523   0   2   Map_K10_VBC_CLI:71631_G/A\n",
      "14   17   0 508   Map_K10_VBC_CLI:73211_T/C\n",
      "15  523   0   2   Map_K10_VBC_CLI:77046_G/T\n",
      "16  515   0  10   Map_K10_VBC_CLI:78045_C/T\n",
      "17  521   0   4   Map_K10_VBC_CLI:91027_C/T\n",
      "18  521   0   4   Map_K10_VBC_CLI:99927_A/G\n",
      "19  515   0  10  Map_K10_VBC_CLI:103242_A/G\n",
      "20  522   0   3  Map_K10_VBC_CLI:118442_T/A\n",
      "21  523   0   2  Map_K10_VBC_CLI:120560_C/T\n",
      "22  523   0   2  Map_K10_VBC_CLI:122449_C/T\n",
      "23  515   0  10  Map_K10_VBC_CLI:124071_T/C\n",
      "24  522   0   3  Map_K10_VBC_CLI:126882_A/C\n",
      "25  347   0 178  Map_K10_VBC_CLI:145647_C/T\n",
      "26  521   0   4  Map_K10_VBC_CLI:155252_C/T\n",
      "27  523   0   2  Map_K10_VBC_CLI:157436_G/T\n",
      "28  523   0   2  Map_K10_VBC_CLI:164089_C/T\n",
      "29  523   0   2  Map_K10_VBC_CLI:175227_A/G\n",
      "30  521   0   4  Map_K10_VBC_CLI:188304_C/T\n",
      "31  523   0   2 Map_K10_VBC_CLI:2009251_G/A\n",
      "32  521   0   4 Map_K10_VBC_CLI:2012374_C/T\n",
      "33  521   0   4 Map_K10_VBC_CLI:2020086_C/T\n",
      "34  515   0  10 Map_K10_VBC_CLI:2022763_A/T\n",
      "35  523   0   2 Map_K10_VBC_CLI:2040397_G/C\n",
      "36  523   0   2 Map_K10_VBC_CLI:2046193_C/T\n",
      "37  515   0  10 Map_K10_VBC_CLI:2094841_C/T\n",
      "38  521   0   4 Map_K10_VBC_CLI:2110866_C/T\n",
      "39  519   0   6 Map_K10_VBC_CLI:2150323_A/G\n",
      "40  515   0  10 Map_K10_VBC_CLI:2150741_T/C\n",
      "41  515   0  10 Map_K10_VBC_CLI:2154056_C/T\n",
      "42  514   0  11 Map_K10_VBC_CLI:2155760_C/A\n",
      "43  515   0  10 Map_K10_VBC_CLI:2159485_C/T\n",
      "44  522   0   3 Map_K10_VBC_CLI:2160363_C/T\n",
      "45  521   0   4 Map_K10_VBC_CLI:2178426_G/T\n",
      "46  521   0   4 Map_K10_VBC_CLI:2191540_C/T\n",
      "47  521   0   4 Map_K10_VBC_CLI:2193870_C/T\n",
      "48  523   0   2 Map_K10_VBC_CLI:4015985_G/A\n",
      "49  518   0   7 Map_K10_VBC_CLI:4024907_T/C\n",
      "50  521   0   4 Map_K10_VBC_CLI:4028111_T/C\n",
      "51  523   0   2 Map_K10_VBC_CLI:4028613_G/A\n",
      "52  518   0   7 Map_K10_VBC_CLI:4037142_G/A\n",
      "53  523   0   2 Map_K10_VBC_CLI:4038386_G/A\n",
      "54  522   0   3 Map_K10_VBC_CLI:4040283_G/A\n",
      "55  519   0   6 Map_K10_VBC_CLI:4042189_T/C\n",
      "56  523   0   2 Map_K10_VBC_CLI:4044695_G/A\n",
      "57  521   0   4 Map_K10_VBC_CLI:4054163_G/C\n",
      "58  522   0   3 Map_K10_VBC_CLI:4070036_C/A\n",
      "59  523   0   2 Map_K10_VBC_CLI:4072026_C/T\n",
      "60  514   0  11 Map_K10_VBC_CLI:4074961_C/A\n",
      "61  519   0   6 Map_K10_VBC_CLI:4080339_C/G\n",
      "62  523   0   2 Map_K10_VBC_CLI:4088155_G/A\n",
      "63  517   0   8 Map_K10_VBC_CLI:4088840_G/A\n",
      "64  522   0   3 Map_K10_VBC_CLI:4109267_A/C\n",
      "65  523   0   2 Map_K10_VBC_CLI:4111125_G/A\n",
      "66  518   0   7 Map_K10_VBC_CLI:4111237_G/A\n",
      "67  523   0   2 Map_K10_VBC_CLI:4113491_G/A\n",
      "68  521   0   4 Map_K10_VBC_CLI:4114396_T/C\n",
      "69  520   0   5 Map_K10_VBC_CLI:4128408_G/A\n",
      "70  522   0   3 Map_K10_VBC_CLI:4129438_A/G\n",
      "71  517   0   8 Map_K10_VBC_CLI:4155202_T/G\n",
      "72  522   0   3 Map_K10_VBC_CLI:4156379_T/C\n",
      "73  515   0  10 Map_K10_VBC_CLI:4174394_G/A\n",
      "74  521   0   4 Map_K10_VBC_CLI:4184624_G/A\n",
      "75  508   0  17 Map_K10_VBC_CLI:4193263_C/G\n",
      "76  522   1   2    Map_K10_VBC_CLI:3367_C/T\n",
      "77  523   1   1    Map_K10_VBC_CLI:5762_A/G\n",
      "78  512   1  12   Map_K10_VBC_CLI:34133_T/C\n",
      "79  523   1   1   Map_K10_VBC_CLI:47491_G/C\n",
      "80  513   1  11   Map_K10_VBC_CLI:51678_A/G\n",
      "81  515   1   9   Map_K10_VBC_CLI:60165_C/T\n",
      "82  522   1   2   Map_K10_VBC_CLI:94938_C/T\n",
      "83  515   1   9  Map_K10_VBC_CLI:137792_C/T\n",
      "84  522   1   2  Map_K10_VBC_CLI:139268_C/T\n",
      "85  522   1   2  Map_K10_VBC_CLI:165630_T/C\n",
      "86  523   1   1  Map_K10_VBC_CLI:169363_G/C\n",
      "87  509   1  15  Map_K10_VBC_CLI:169463_C/T\n",
      "88  522   1   2  Map_K10_VBC_CLI:183128_G/T\n",
      "89  518   1   6 Map_K10_VBC_CLI:2018876_G/A\n",
      "90  523   1   1 Map_K10_VBC_CLI:2025382_C/T\n",
      "91  515   1   9 Map_K10_VBC_CLI:2072948_C/T\n",
      "92  515   1   9 Map_K10_VBC_CLI:2075511_G/A\n",
      "93  515   1   9 Map_K10_VBC_CLI:2105700_C/A\n",
      "94  346   1 178 Map_K10_VBC_CLI:4022146_G/A\n",
      "95  523   1   1 Map_K10_VBC_CLI:4032495_G/A\n",
      "96  508   1  16 Map_K10_VBC_CLI:4060058_G/A\n",
      "97  515   1   9 Map_K10_VBC_CLI:4121353_G/C\n",
      "98  515   1   9 Map_K10_VBC_CLI:4128489_G/A\n",
      "99  515   2   8    Map_K10_VBC_CLI:2702_A/C\n",
      "100 523   2   0    Map_K10_VBC_CLI:3742_C/A\n",
      "101 522   2   1    Map_K10_VBC_CLI:9219_C/G\n",
      "102 523   2   0   Map_K10_VBC_CLI:10106_G/A\n",
      "103 522   2   1   Map_K10_VBC_CLI:10707_G/A\n",
      "104 523   2   0   Map_K10_VBC_CLI:38099_A/C\n",
      "105 522   2   1   Map_K10_VBC_CLI:51730_A/G\n",
      "106 523   2   0   Map_K10_VBC_CLI:68622_G/A\n",
      "107 523   2   0   Map_K10_VBC_CLI:68699_C/A\n",
      "108 523   2   0   Map_K10_VBC_CLI:69247_C/A\n",
      "109 515   2   8  Map_K10_VBC_CLI:100695_C/T\n",
      "110 523   2   0  Map_K10_VBC_CLI:108771_C/G\n",
      "111 523   2   0  Map_K10_VBC_CLI:111853_C/G\n",
      "112 523   2   0  Map_K10_VBC_CLI:122917_C/A\n",
      "113 523   2   0  Map_K10_VBC_CLI:125491_C/A\n",
      "114 523   2   0  Map_K10_VBC_CLI:126541_G/C\n",
      "115 523   2   0  Map_K10_VBC_CLI:130441_A/T\n",
      "116 523   2   0  Map_K10_VBC_CLI:132747_G/T\n",
      "117 523   2   0  Map_K10_VBC_CLI:138275_A/G\n",
      "118 523   2   0  Map_K10_VBC_CLI:138532_C/A\n",
      "119 523   2   0  Map_K10_VBC_CLI:138831_G/A\n",
      "120 523   2   0  Map_K10_VBC_CLI:138987_G/A\n",
      "121 523   2   0  Map_K10_VBC_CLI:141668_C/G\n",
      "122 515   2   8  Map_K10_VBC_CLI:142825_G/C\n",
      "123 513   2  10  Map_K10_VBC_CLI:143639_T/C\n",
      "124 523   2   0  Map_K10_VBC_CLI:148004_C/T\n",
      "125 523   2   0  Map_K10_VBC_CLI:148190_G/C\n",
      "126 523   2   0  Map_K10_VBC_CLI:152564_T/A\n",
      "127 523   2   0  Map_K10_VBC_CLI:153651_C/G\n",
      "128 523   2   0  Map_K10_VBC_CLI:154777_C/A\n",
      "129 523   2   0  Map_K10_VBC_CLI:158553_C/A\n",
      "130 523   2   0  Map_K10_VBC_CLI:161824_C/A\n",
      "131 523   2   0  Map_K10_VBC_CLI:162013_C/A\n",
      "132 523   2   0  Map_K10_VBC_CLI:167477_T/C\n",
      "133 523   2   0  Map_K10_VBC_CLI:169234_A/C\n",
      "134 523   2   0  Map_K10_VBC_CLI:169258_C/A\n",
      "135 523   2   0  Map_K10_VBC_CLI:169260_C/A\n",
      "136 523   2   0  Map_K10_VBC_CLI:169371_G/T\n",
      "137 523   2   0  Map_K10_VBC_CLI:169411_C/A\n",
      "138 523   2   0  Map_K10_VBC_CLI:169505_G/T\n",
      "139 523   2   0  Map_K10_VBC_CLI:169511_C/A\n",
      "140 523   2   0  Map_K10_VBC_CLI:169517_C/A\n",
      "141 523   2   0  Map_K10_VBC_CLI:173900_G/C\n",
      "142 523   2   0  Map_K10_VBC_CLI:179970_C/A\n",
      "143 523   2   0  Map_K10_VBC_CLI:180185_C/A\n",
      "144 523   2   0  Map_K10_VBC_CLI:180209_A/G\n",
      "145 523   2   0  Map_K10_VBC_CLI:180249_G/T\n",
      "146 518   2   5  Map_K10_VBC_CLI:180515_A/G\n",
      "147 523   2   0  Map_K10_VBC_CLI:180960_G/A\n",
      "148 523   2   0  Map_K10_VBC_CLI:183295_G/T\n",
      "149 499   2  24  Map_K10_VBC_CLI:186552_G/A\n",
      "150 523   2   0  Map_K10_VBC_CLI:189295_A/G\n",
      "151 523   2   0  Map_K10_VBC_CLI:191012_G/A\n",
      "152 515   2   8  Map_K10_VBC_CLI:191938_A/T\n",
      "153 516   2   7 Map_K10_VBC_CLI:2002239_T/C\n",
      "154 523   2   0 Map_K10_VBC_CLI:2007661_A/G\n",
      "155 523   2   0 Map_K10_VBC_CLI:2008152_G/T\n",
      "156 523   2   0 Map_K10_VBC_CLI:2009878_G/T\n",
      "157 523   2   0 Map_K10_VBC_CLI:2009916_G/A\n",
      "158 523   2   0 Map_K10_VBC_CLI:2009996_G/T\n",
      "159 523   2   0 Map_K10_VBC_CLI:2010004_G/T\n",
      "160 523   2   0 Map_K10_VBC_CLI:2017482_A/C\n",
      "161 523   2   0 Map_K10_VBC_CLI:2018008_C/T\n",
      "162 523   2   0 Map_K10_VBC_CLI:2018310_G/T\n",
      "163 523   2   0 Map_K10_VBC_CLI:2018410_T/G\n",
      "164 523   2   0 Map_K10_VBC_CLI:2018706_C/G\n",
      "165 523   2   0 Map_K10_VBC_CLI:2018842_C/A\n",
      "166 523   2   0 Map_K10_VBC_CLI:2018914_C/A\n",
      "167 523   2   0 Map_K10_VBC_CLI:2026834_C/A\n",
      "168 523   2   0 Map_K10_VBC_CLI:2027662_A/G\n",
      "169 523   2   0 Map_K10_VBC_CLI:2029031_G/A\n",
      "170 523   2   0 Map_K10_VBC_CLI:2029402_C/A\n",
      "171 523   2   0 Map_K10_VBC_CLI:2029544_G/T\n",
      "172 523   2   0 Map_K10_VBC_CLI:2029563_G/T\n",
      "173 523   2   0 Map_K10_VBC_CLI:2030371_G/C\n",
      "174 523   2   0 Map_K10_VBC_CLI:2038961_G/T\n",
      "175 523   2   0 Map_K10_VBC_CLI:2041145_A/C\n",
      "176 523   2   0 Map_K10_VBC_CLI:2041961_C/A\n",
      "177 523   2   0 Map_K10_VBC_CLI:2046782_G/T\n",
      "178 523   2   0 Map_K10_VBC_CLI:2048267_A/C\n",
      "179 523   2   0 Map_K10_VBC_CLI:2048272_G/A\n",
      "180 523   2   0 Map_K10_VBC_CLI:2048277_G/T\n",
      "181 523   2   0 Map_K10_VBC_CLI:2048817_C/T\n",
      "182 521   2   2 Map_K10_VBC_CLI:2049095_C/T\n",
      "183 523   2   0 Map_K10_VBC_CLI:2051078_G/T\n",
      "184 523   2   0 Map_K10_VBC_CLI:2053270_C/A\n",
      "185 523   2   0 Map_K10_VBC_CLI:2058777_C/T\n",
      "186 523   2   0 Map_K10_VBC_CLI:2064183_C/A\n",
      "187 515   2   8 Map_K10_VBC_CLI:2070102_T/G\n",
      "188 523   2   0 Map_K10_VBC_CLI:2071212_A/G\n",
      "189 516   2   7 Map_K10_VBC_CLI:2075752_C/T\n",
      "190 523   2   0 Map_K10_VBC_CLI:2077729_G/T\n",
      "191 523   2   0 Map_K10_VBC_CLI:2078751_C/G\n",
      "192 523   2   0 Map_K10_VBC_CLI:2078871_T/G\n",
      "193 523   2   0 Map_K10_VBC_CLI:2081539_C/G\n",
      "194 523   2   0 Map_K10_VBC_CLI:2081682_A/G\n",
      "195 523   2   0 Map_K10_VBC_CLI:2082124_C/A\n",
      "196 523   2   0 Map_K10_VBC_CLI:2083620_C/A\n",
      "197 523   2   0 Map_K10_VBC_CLI:2088704_C/A\n",
      "198 523   2   0 Map_K10_VBC_CLI:2100212_C/A\n",
      "199 523   2   0 Map_K10_VBC_CLI:2101596_G/T\n",
      "200 523   2   0 Map_K10_VBC_CLI:2101643_G/A\n",
      "201 523   2   0 Map_K10_VBC_CLI:2103247_C/A\n",
      "202 523   2   0 Map_K10_VBC_CLI:2103250_C/A\n",
      "203 523   2   0 Map_K10_VBC_CLI:2103273_C/A\n",
      "204 523   2   0 Map_K10_VBC_CLI:2106139_G/T\n",
      "205 523   2   0 Map_K10_VBC_CLI:2106203_C/A\n",
      "206 523   2   0 Map_K10_VBC_CLI:2110099_T/C\n",
      "207 523   2   0 Map_K10_VBC_CLI:2111615_C/A\n",
      "208 523   2   0 Map_K10_VBC_CLI:2112960_G/C\n",
      "209 523   2   0 Map_K10_VBC_CLI:2114194_C/G\n",
      "210 523   2   0 Map_K10_VBC_CLI:2116166_C/G\n",
      "211 523   2   0 Map_K10_VBC_CLI:2116902_T/C\n",
      "212 523   2   0 Map_K10_VBC_CLI:2116941_A/C\n",
      "213 523   2   0 Map_K10_VBC_CLI:2117574_C/A\n",
      "214 523   2   0 Map_K10_VBC_CLI:2117776_C/T\n",
      "215 523   2   0 Map_K10_VBC_CLI:2118858_G/C\n",
      "216 515   2   8 Map_K10_VBC_CLI:2121184_G/A\n",
      "217 523   2   0 Map_K10_VBC_CLI:2127300_G/A\n",
      "218 517   2   6 Map_K10_VBC_CLI:2127517_A/G\n",
      "219 523   2   0 Map_K10_VBC_CLI:2129200_C/G\n",
      "220 523   2   0 Map_K10_VBC_CLI:2131484_G/A\n",
      "221 523   2   0 Map_K10_VBC_CLI:2145065_G/T\n",
      "222 517   2   6 Map_K10_VBC_CLI:2160983_C/T\n",
      "223 523   2   0 Map_K10_VBC_CLI:2169033_G/T\n",
      "224 523   2   0 Map_K10_VBC_CLI:2174563_C/A\n",
      "225 523   2   0 Map_K10_VBC_CLI:2179468_C/A\n",
      "226 523   2   0 Map_K10_VBC_CLI:2190076_G/A\n",
      "227 523   2   0 Map_K10_VBC_CLI:2190213_A/C\n",
      "228 523   2   0 Map_K10_VBC_CLI:2191715_G/T\n",
      "229 523   2   0 Map_K10_VBC_CLI:2192903_T/A\n",
      "230 523   2   0 Map_K10_VBC_CLI:4008379_C/G\n",
      "231 523   2   0 Map_K10_VBC_CLI:4011790_T/C\n",
      "232 523   2   0 Map_K10_VBC_CLI:4013427_G/C\n",
      "233 523   2   0 Map_K10_VBC_CLI:4013527_G/C\n",
      "234 523   2   0 Map_K10_VBC_CLI:4013581_C/A\n",
      "235 523   2   0 Map_K10_VBC_CLI:4013670_C/A\n",
      "236 523   2   0 Map_K10_VBC_CLI:4014261_T/C\n",
      "237 523   2   0 Map_K10_VBC_CLI:4016264_C/A\n",
      "238 523   2   0 Map_K10_VBC_CLI:4021226_A/C\n",
      "239 523   2   0 Map_K10_VBC_CLI:4024336_G/C\n",
      "240 523   2   0 Map_K10_VBC_CLI:4025000_C/G\n",
      "241 523   2   0 Map_K10_VBC_CLI:4025865_G/C\n",
      "242 523   2   0 Map_K10_VBC_CLI:4035280_C/A\n",
      "243 523   2   0 Map_K10_VBC_CLI:4035307_C/A\n",
      "244 523   2   0 Map_K10_VBC_CLI:4040928_G/A\n",
      "245 523   2   0 Map_K10_VBC_CLI:4040986_C/A\n",
      "246 515   2   8 Map_K10_VBC_CLI:4041118_C/G\n",
      "247 523   2   0 Map_K10_VBC_CLI:4042427_G/T\n",
      "248 523   2   0 Map_K10_VBC_CLI:4043096_A/G\n",
      "249 523   2   0 Map_K10_VBC_CLI:4063002_G/T\n",
      "250 523   2   0 Map_K10_VBC_CLI:4064805_G/C\n",
      "251 513   2  10 Map_K10_VBC_CLI:4075943_G/A\n",
      "252 523   2   0 Map_K10_VBC_CLI:4093952_G/T\n",
      "253 523   2   0 Map_K10_VBC_CLI:4122480_G/C\n",
      "254 518   2   5 Map_K10_VBC_CLI:4126544_T/C\n",
      "255 523   2   0 Map_K10_VBC_CLI:4134864_C/T\n",
      "256 523   2   0 Map_K10_VBC_CLI:4140971_G/C\n",
      "257 523   2   0 Map_K10_VBC_CLI:4142641_C/A\n",
      "258 518   2   5 Map_K10_VBC_CLI:4145031_C/T\n",
      "259 523   2   0 Map_K10_VBC_CLI:4145285_C/G\n",
      "260 523   2   0 Map_K10_VBC_CLI:4158894_G/A\n",
      "261 523   2   0 Map_K10_VBC_CLI:4158983_T/C\n",
      "262 523   2   0 Map_K10_VBC_CLI:4159724_C/A\n",
      "263 523   2   0 Map_K10_VBC_CLI:4162527_C/G\n",
      "264 523   2   0 Map_K10_VBC_CLI:4164630_A/G\n",
      "265 523   2   0 Map_K10_VBC_CLI:4173657_C/G\n",
      "266 523   2   0 Map_K10_VBC_CLI:4182818_G/A\n",
      "267 523   2   0 Map_K10_VBC_CLI:4185354_C/A\n",
      "268 523   2   0 Map_K10_VBC_CLI:4187085_G/T\n",
      "269 523   2   0 Map_K10_VBC_CLI:4196793_C/G\n",
      "270 516   3   6    Map_K10_VBC_CLI:3944_C/T\n",
      "271 521   3   1    Map_K10_VBC_CLI:5964_A/G\n",
      "272 517   3   5   Map_K10_VBC_CLI:10955_C/T\n",
      "273 522   3   0   Map_K10_VBC_CLI:39297_G/C\n",
      "274 522   3   0   Map_K10_VBC_CLI:40081_G/A\n",
      "275 508   3  14   Map_K10_VBC_CLI:67590_G/A\n",
      "276 516   3   6  Map_K10_VBC_CLI:100665_C/T\n",
      "277 522   3   0  Map_K10_VBC_CLI:111872_C/G\n",
      "278 522   3   0  Map_K10_VBC_CLI:113156_A/G\n",
      "279 508   3  14  Map_K10_VBC_CLI:114536_T/C\n",
      "280 517   3   5  Map_K10_VBC_CLI:125166_C/T\n",
      "281 522   3   0  Map_K10_VBC_CLI:139180_T/C\n",
      "282 522   3   0  Map_K10_VBC_CLI:164043_C/T\n",
      "283 522   3   0  Map_K10_VBC_CLI:169273_G/C\n",
      "284 517   3   5  Map_K10_VBC_CLI:179171_C/T\n",
      "285 522   3   0  Map_K10_VBC_CLI:182854_T/A\n",
      "286 508   3  14  Map_K10_VBC_CLI:183282_G/C\n",
      "287 522   3   0  Map_K10_VBC_CLI:185161_G/T\n",
      "288 522   3   0  Map_K10_VBC_CLI:190441_T/A\n",
      "289 522   3   0 Map_K10_VBC_CLI:2010290_C/G\n",
      "290 522   3   0 Map_K10_VBC_CLI:2018172_G/A\n",
      "291 522   3   0 Map_K10_VBC_CLI:2024323_C/G\n",
      "292 522   3   0 Map_K10_VBC_CLI:2028828_G/C\n",
      "293 522   3   0 Map_K10_VBC_CLI:2038495_A/T\n",
      "294 522   3   0 Map_K10_VBC_CLI:2040769_G/A\n",
      "295 522   3   0 Map_K10_VBC_CLI:2042387_T/A\n",
      "296 522   3   0 Map_K10_VBC_CLI:2049441_A/C\n",
      "297 522   3   0 Map_K10_VBC_CLI:2061857_A/G\n",
      "298 522   3   0 Map_K10_VBC_CLI:2062342_T/A\n",
      "299 522   3   0 Map_K10_VBC_CLI:2103112_G/A\n",
      "300 522   3   0 Map_K10_VBC_CLI:2103244_G/C\n",
      "301 522   3   0 Map_K10_VBC_CLI:2106160_T/A\n",
      "302 522   3   0 Map_K10_VBC_CLI:2116335_G/C\n",
      "303 522   3   0 Map_K10_VBC_CLI:2128141_G/A\n",
      "304 522   3   0 Map_K10_VBC_CLI:2133257_C/G\n",
      "305 516   3   6 Map_K10_VBC_CLI:2168098_C/T\n",
      "306 522   3   0 Map_K10_VBC_CLI:2180784_C/A\n",
      "307 522   3   0 Map_K10_VBC_CLI:4008494_C/G\n",
      "308 522   3   0 Map_K10_VBC_CLI:4013580_C/T\n",
      "309 522   3   0 Map_K10_VBC_CLI:4025189_T/C\n",
      "310 522   3   0 Map_K10_VBC_CLI:4025870_G/A\n",
      "311 516   3   6 Map_K10_VBC_CLI:4032855_G/A\n",
      "312 522   3   0 Map_K10_VBC_CLI:4043664_T/A\n",
      "313 517   3   5 Map_K10_VBC_CLI:4116297_A/G\n",
      "314 521   3   1 Map_K10_VBC_CLI:4138569_C/A\n",
      "315 522   3   0 Map_K10_VBC_CLI:4159505_C/A\n",
      "316 522   3   0 Map_K10_VBC_CLI:4193013_A/C\n",
      "317 477   4  44   Map_K10_VBC_CLI:56276_T/C\n",
      "318 515   4   6   Map_K10_VBC_CLI:75721_C/T\n",
      "319 515   4   6   Map_K10_VBC_CLI:80062_C/T\n",
      "320 502   4  19   Map_K10_VBC_CLI:87442_A/G\n",
      "321 521   4   0   Map_K10_VBC_CLI:87545_G/A\n",
      "322 521   4   0  Map_K10_VBC_CLI:125436_C/G\n",
      "323 521   4   0  Map_K10_VBC_CLI:125788_G/C\n",
      "324 521   4   0  Map_K10_VBC_CLI:130112_A/C\n",
      "325 521   4   0  Map_K10_VBC_CLI:138930_G/A\n",
      "326 521   4   0  Map_K10_VBC_CLI:160537_G/C\n",
      "327 502   4  19  Map_K10_VBC_CLI:163876_A/G\n",
      "328 521   4   0  Map_K10_VBC_CLI:169551_C/A\n",
      "329 521   4   0  Map_K10_VBC_CLI:172994_C/G\n",
      "330 521   4   0  Map_K10_VBC_CLI:180239_C/A\n",
      "331 521   4   0 Map_K10_VBC_CLI:2009999_G/T\n",
      "332 521   4   0 Map_K10_VBC_CLI:2078273_G/C\n",
      "333 502   4  19 Map_K10_VBC_CLI:2083177_T/C\n",
      "334 521   4   0 Map_K10_VBC_CLI:2084075_C/G\n",
      "335 521   4   0 Map_K10_VBC_CLI:2086081_G/C\n",
      "336 516   4   5 Map_K10_VBC_CLI:2099171_G/T\n",
      "337 521   4   0 Map_K10_VBC_CLI:2115746_C/G\n",
      "338 515   4   6 Map_K10_VBC_CLI:2169214_A/G\n",
      "339 521   4   0 Map_K10_VBC_CLI:2174793_T/G\n",
      "340 521   4   0 Map_K10_VBC_CLI:2180832_G/T\n",
      "341 521   4   0 Map_K10_VBC_CLI:4004974_G/A\n",
      "342 521   4   0 Map_K10_VBC_CLI:4010298_G/A\n",
      "343 521   4   0 Map_K10_VBC_CLI:4040921_T/A\n",
      "344 515   4   6 Map_K10_VBC_CLI:4111314_A/G\n",
      "345 521   4   0 Map_K10_VBC_CLI:4140918_G/A\n",
      "346 520   5   0   Map_K10_VBC_CLI:10025_C/G\n",
      "347 520   5   0   Map_K10_VBC_CLI:10096_C/A\n",
      "348 195   5 325   Map_K10_VBC_CLI:30901_A/C\n",
      "349 520   5   0   Map_K10_VBC_CLI:80314_T/A\n",
      "350 520   5   0   Map_K10_VBC_CLI:87550_T/C\n",
      "351 518   5   2  Map_K10_VBC_CLI:101109_G/T\n",
      "352 509   5  11  Map_K10_VBC_CLI:111061_G/A\n",
      "353 520   5   0  Map_K10_VBC_CLI:140402_T/A\n",
      "354 502   5  18  Map_K10_VBC_CLI:142835_G/C\n",
      "355 502   5  18  Map_K10_VBC_CLI:150857_G/C\n",
      "356 520   5   0  Map_K10_VBC_CLI:152498_A/T\n",
      "357 520   5   0  Map_K10_VBC_CLI:152507_A/C\n",
      "358 194   5 326  Map_K10_VBC_CLI:173146_C/T\n",
      "359 514   5   6 Map_K10_VBC_CLI:2026944_C/T\n",
      "360 520   5   0 Map_K10_VBC_CLI:2029684_T/G\n",
      "361 520   5   0 Map_K10_VBC_CLI:2049448_G/T\n",
      "362 520   5   0 Map_K10_VBC_CLI:2050970_C/A\n",
      "363 501   5  19 Map_K10_VBC_CLI:2059651_T/C\n",
      "364 520   5   0 Map_K10_VBC_CLI:2106382_G/C\n",
      "365 520   5   0 Map_K10_VBC_CLI:2111507_G/C\n",
      "366 520   5   0 Map_K10_VBC_CLI:2123779_T/A\n",
      "367 502   5  18 Map_K10_VBC_CLI:2172538_C/G\n",
      "368 505   5  15 Map_K10_VBC_CLI:2174217_A/C\n",
      "369 505   5  15 Map_K10_VBC_CLI:2174231_T/C\n",
      "370 195   5 325 Map_K10_VBC_CLI:2189617_A/C\n",
      "371 520   5   0 Map_K10_VBC_CLI:4035172_A/G\n",
      "372 195   5 325 Map_K10_VBC_CLI:4040114_G/A\n",
      "373 520   5   0 Map_K10_VBC_CLI:4041060_C/G\n",
      "374 514   5   6 Map_K10_VBC_CLI:4053595_G/A\n",
      "375 520   5   0 Map_K10_VBC_CLI:4064741_T/A\n",
      "376 520   5   0 Map_K10_VBC_CLI:4168457_G/A\n",
      "377 193   6 326   Map_K10_VBC_CLI:76286_G/T\n",
      "378 465   6  54   Map_K10_VBC_CLI:77507_C/A\n",
      "379 465   6  54  Map_K10_VBC_CLI:165969_C/T\n",
      "380 519   6   0 Map_K10_VBC_CLI:2023217_G/C\n",
      "381 501   6  18 Map_K10_VBC_CLI:2054875_T/C\n",
      "382 519   6   0 Map_K10_VBC_CLI:2063008_T/C\n",
      "383 519   6   0 Map_K10_VBC_CLI:2103105_G/C\n",
      "384 519   6   0 Map_K10_VBC_CLI:2103249_C/A\n",
      "385 519   6   0 Map_K10_VBC_CLI:2105206_A/T\n",
      "386 519   6   0 Map_K10_VBC_CLI:2117059_C/G\n",
      "387 465   6  54 Map_K10_VBC_CLI:2151370_C/G\n",
      "388 465   6  54 Map_K10_VBC_CLI:2167917_C/T\n",
      "389 519   6   0 Map_K10_VBC_CLI:2168382_C/G\n",
      "390 519   6   0 Map_K10_VBC_CLI:4019910_C/T\n",
      "391 519   6   0 Map_K10_VBC_CLI:4038517_A/G\n",
      "392 519   6   0 Map_K10_VBC_CLI:4193007_C/G\n",
      "393 516   7   2   Map_K10_VBC_CLI:38870_A/G\n",
      "394 515   7   3  Map_K10_VBC_CLI:138160_G/A\n",
      "395 518   7   0  Map_K10_VBC_CLI:139085_C/G\n",
      "396 518   7   0 Map_K10_VBC_CLI:2060520_C/G\n",
      "397 518   7   0 Map_K10_VBC_CLI:2105162_G/C\n",
      "398 518   7   0 Map_K10_VBC_CLI:2121175_C/T\n",
      "399 518   7   0 Map_K10_VBC_CLI:2137187_C/T\n",
      "400 518   7   0 Map_K10_VBC_CLI:2137198_A/C\n",
      "401 514   8   3    Map_K10_VBC_CLI:5726_C/T\n",
      "402 517   8   0   Map_K10_VBC_CLI:42703_A/T\n",
      "403 517   8   0   Map_K10_VBC_CLI:99107_G/C\n",
      "404 517   8   0 Map_K10_VBC_CLI:4016471_C/G\n",
      "405 516   9   0  Map_K10_VBC_CLI:131436_G/C\n",
      "406 516   9   0  Map_K10_VBC_CLI:131441_G/C\n",
      "407 516   9   0  Map_K10_VBC_CLI:139907_G/C\n",
      "408 516   9   0  Map_K10_VBC_CLI:185321_G/C\n",
      "409 516   9   0 Map_K10_VBC_CLI:2023494_C/G\n",
      "410 516   9   0 Map_K10_VBC_CLI:2061785_C/T\n",
      "411 516   9   0 Map_K10_VBC_CLI:2088244_G/A\n",
      "412 516   9   0 Map_K10_VBC_CLI:2118833_C/A\n",
      "413 516   9   0 Map_K10_VBC_CLI:2169051_A/G\n",
      "414 516   9   0 Map_K10_VBC_CLI:4035297_C/T\n",
      "415 515  10   0 Map_K10_VBC_CLI:2105212_C/G\n",
      "416 515  10   0 Map_K10_VBC_CLI:2113361_C/G\n",
      "417 515  10   0 Map_K10_VBC_CLI:2153068_G/C\n",
      "418 515  10   0 Map_K10_VBC_CLI:4019905_A/G\n",
      "419 515  10   0 Map_K10_VBC_CLI:4138684_A/T\n",
      "420 514  11   0  Map_K10_VBC_CLI:110799_G/C\n",
      "421 514  11   0  Map_K10_VBC_CLI:147258_A/G\n",
      "422 514  11   0  Map_K10_VBC_CLI:169174_T/G\n",
      "423 514  11   0  Map_K10_VBC_CLI:183137_G/A\n",
      "424 514  11   0 Map_K10_VBC_CLI:2009497_G/T\n",
      "425 514  11   0 Map_K10_VBC_CLI:2062484_C/T\n",
      "426 514  11   0 Map_K10_VBC_CLI:2078737_C/G\n",
      "427 514  11   0 Map_K10_VBC_CLI:2116878_A/G\n",
      "428 514  11   0 Map_K10_VBC_CLI:4041107_C/A\n",
      "429 514  11   0 Map_K10_VBC_CLI:4139181_C/G\n",
      "430 513  12   0  Map_K10_VBC_CLI:125770_C/G\n",
      "431 513  12   0 Map_K10_VBC_CLI:2061779_G/A\n",
      "432 441  12  72 Map_K10_VBC_CLI:2168916_C/T\n",
      "433 513  12   0 Map_K10_VBC_CLI:4041268_T/G\n",
      "434 513  12   0 Map_K10_VBC_CLI:4193089_C/G\n",
      "435 512  13   0  Map_K10_VBC_CLI:169284_C/G\n",
      "436 512  13   0 Map_K10_VBC_CLI:2084146_A/G\n",
      "437 512  13   0 Map_K10_VBC_CLI:2084773_G/C\n",
      "438 512  13   0 Map_K10_VBC_CLI:2116865_C/T\n",
      "439 512  13   0 Map_K10_VBC_CLI:2121164_A/G\n",
      "440 512  13   0 Map_K10_VBC_CLI:4116531_C/G\n",
      "441 478  14  33 Map_K10_VBC_CLI:2126897_A/C\n",
      "442 511  14   0 Map_K10_VBC_CLI:4012810_T/A\n",
      "443 458  15  52  Map_K10_VBC_CLI:182378_G/A\n",
      "444 510  15   0 Map_K10_VBC_CLI:2009502_A/C\n",
      "445 510  15   0 Map_K10_VBC_CLI:2042306_G/T\n",
      "446 510  15   0 Map_K10_VBC_CLI:2146989_A/T\n",
      "447 508  17   0    Map_K10_VBC_CLI:2683_C/T\n",
      "448 507  18   0   Map_K10_VBC_CLI:53463_T/A\n",
      "449 506  19   0  Map_K10_VBC_CLI:106163_C/G\n",
      "450 506  19   0 Map_K10_VBC_CLI:2113394_A/G\n",
      "451 506  19   0 Map_K10_VBC_CLI:4014225_T/G\n",
      "452 505  20   0  Map_K10_VBC_CLI:169169_C/A\n",
      "453 505  20   0 Map_K10_VBC_CLI:2106256_C/G\n",
      "454 505  20   0 Map_K10_VBC_CLI:4012711_G/C\n",
      "455 503  22   0   Map_K10_VBC_CLI:81214_C/G\n",
      "456 503  22   0  Map_K10_VBC_CLI:162706_G/A\n",
      "457 503  22   0 Map_K10_VBC_CLI:2040722_T/C\n",
      "458 503  22   0 Map_K10_VBC_CLI:2042300_T/A\n",
      "459 502  23   0 Map_K10_VBC_CLI:4073304_T/C\n",
      "460 501  24   0   Map_K10_VBC_CLI:40518_C/G\n",
      "461 500  25   0 Map_K10_VBC_CLI:2042294_A/C\n",
      "462 500  25   0 Map_K10_VBC_CLI:4057518_G/C\n",
      "463 499  26   0 Map_K10_VBC_CLI:4158932_C/G\n",
      "464 498  27   0 Map_K10_VBC_CLI:4057103_T/A\n",
      "465 497  28   0 Map_K10_VBC_CLI:2018384_C/A\n",
      "466 496  29   0  Map_K10_VBC_CLI:146925_A/T\n",
      "467 496  29   0 Map_K10_VBC_CLI:2088195_T/C\n",
      "468 487  38   0 Map_K10_VBC_CLI:4043092_G/A\n",
      "469 487  38   0 Map_K10_VBC_CLI:4158927_C/G\n",
      "470 485  40   0 Map_K10_VBC_CLI:2146144_A/T\n",
      "471 483  42   0  Map_K10_VBC_CLI:169544_C/T\n",
      "472 476  49   0 Map_K10_VBC_CLI:2009992_C/G\n",
      "473 461  64   0  Map_K10_VBC_CLI:110567_T/A\n",
      "474 458  67   0 Map_K10_VBC_CLI:2063174_T/G\n",
      "475 457  68   0 Map_K10_VBC_CLI:2190700_G/C\n",
      "476 456  69   0 Map_K10_VBC_CLI:4043655_G/C\n",
      "477 452  73   0 Map_K10_VBC_CLI:2072617_T/A\n",
      "478 452  73   0 Map_K10_VBC_CLI:2190695_G/C\n",
      "479 448  77   0 Map_K10_VBC_CLI:2189995_G/C\n",
      "480 439  86   0   Map_K10_VBC_CLI:77697_T/A\n",
      "481 417 108   0  Map_K10_VBC_CLI:159925_T/A\n",
      "482 409 116   0 Map_K10_VBC_CLI:2022293_A/T\n",
      "483 365 160   0 Map_K10_VBC_CLI:2115729_A/C\n",
      "484 357 168   0 Map_K10_VBC_CLI:4066512_C/T\n",
      "485 219 306   0  Map_K10_VBC_CLI:189693_C/G\n"
     ]
    }
   ],
   "source": [
    "GT_freq <- do.call('rbind', lapply(\n",
    "    1:nrow(GT), \n",
    "    function(i) GT[i, ] %>% factor(c('0/0', '0/1', '1/1'), labels = c('AA', 'AB', 'BB')) %>% table()\n",
    ")) %>% \n",
    "    as.data.frame() %>%\n",
    "    mutate(snp_id = rownames(GT)) %>%\n",
    "    filter(!(AB == 1 & BB == 0)) %>%\n",
    "    filter(!(AB == 0 & BB == 1)) %>%\n",
    "    filter(!(AA == 0 & AB == 0)) %>% \n",
    "    arrange(AB) %>% \n",
    "    print()\n",
    "# GT_freq has filtered out singletons"
   ]
  },
  {
   "cell_type": "code",
   "execution_count": 57,
   "metadata": {},
   "outputs": [
    {
     "data": {
      "text/html": [
       "<table>\n",
       "<thead><tr><th scope=col>AA</th><th scope=col>AB</th><th scope=col>BB</th><th scope=col>snp_id</th></tr></thead>\n",
       "<tbody>\n",
       "\t<tr><td>523                      </td><td>0                        </td><td>2                        </td><td>Map_K10_VBC_CLI:6008_C/T </td></tr>\n",
       "\t<tr><td>523                      </td><td>0                        </td><td>2                        </td><td>Map_K10_VBC_CLI:9890_C/T </td></tr>\n",
       "\t<tr><td>523                      </td><td>0                        </td><td>2                        </td><td>Map_K10_VBC_CLI:10583_G/A</td></tr>\n",
       "\t<tr><td>518                      </td><td>0                        </td><td>7                        </td><td>Map_K10_VBC_CLI:16181_A/G</td></tr>\n",
       "\t<tr><td>522                      </td><td>0                        </td><td>3                        </td><td>Map_K10_VBC_CLI:23889_T/C</td></tr>\n",
       "\t<tr><td>523                      </td><td>0                        </td><td>2                        </td><td>Map_K10_VBC_CLI:28335_G/A</td></tr>\n",
       "</tbody>\n",
       "</table>\n"
      ],
      "text/latex": [
       "\\begin{tabular}{r|llll}\n",
       " AA & AB & BB & snp\\_id\\\\\n",
       "\\hline\n",
       "\t 523                               & 0                                 & 2                                 & Map\\_K10\\_VBC\\_CLI:6008\\_C/T \\\\\n",
       "\t 523                               & 0                                 & 2                                 & Map\\_K10\\_VBC\\_CLI:9890\\_C/T \\\\\n",
       "\t 523                               & 0                                 & 2                                 & Map\\_K10\\_VBC\\_CLI:10583\\_G/A\\\\\n",
       "\t 518                               & 0                                 & 7                                 & Map\\_K10\\_VBC\\_CLI:16181\\_A/G\\\\\n",
       "\t 522                               & 0                                 & 3                                 & Map\\_K10\\_VBC\\_CLI:23889\\_T/C\\\\\n",
       "\t 523                               & 0                                 & 2                                 & Map\\_K10\\_VBC\\_CLI:28335\\_G/A\\\\\n",
       "\\end{tabular}\n"
      ],
      "text/markdown": [
       "\n",
       "| AA | AB | BB | snp_id |\n",
       "|---|---|---|---|\n",
       "| 523                       | 0                         | 2                         | Map_K10_VBC_CLI:6008_C/T  |\n",
       "| 523                       | 0                         | 2                         | Map_K10_VBC_CLI:9890_C/T  |\n",
       "| 523                       | 0                         | 2                         | Map_K10_VBC_CLI:10583_G/A |\n",
       "| 518                       | 0                         | 7                         | Map_K10_VBC_CLI:16181_A/G |\n",
       "| 522                       | 0                         | 3                         | Map_K10_VBC_CLI:23889_T/C |\n",
       "| 523                       | 0                         | 2                         | Map_K10_VBC_CLI:28335_G/A |\n",
       "\n"
      ],
      "text/plain": [
       "  AA  AB BB snp_id                   \n",
       "1 523 0  2  Map_K10_VBC_CLI:6008_C/T \n",
       "2 523 0  2  Map_K10_VBC_CLI:9890_C/T \n",
       "3 523 0  2  Map_K10_VBC_CLI:10583_G/A\n",
       "4 518 0  7  Map_K10_VBC_CLI:16181_A/G\n",
       "5 522 0  3  Map_K10_VBC_CLI:23889_T/C\n",
       "6 523 0  2  Map_K10_VBC_CLI:28335_G/A"
      ]
     },
     "metadata": {},
     "output_type": "display_data"
    }
   ],
   "source": [
    "head(GT_freq)"
   ]
  },
  {
   "cell_type": "code",
   "execution_count": 58,
   "metadata": {},
   "outputs": [
    {
     "data": {
      "text/html": [
       "<table>\n",
       "<thead><tr><th></th><th scope=col>MAP727</th><th scope=col>MAP879</th><th scope=col>MAP792</th><th scope=col>MAP897</th><th scope=col>MAP766</th><th scope=col>MAP785</th><th scope=col>MAP776</th><th scope=col>MAP779</th><th scope=col>MAP705</th><th scope=col>MAP789</th><th scope=col>...</th><th scope=col>MAP733</th><th scope=col>MAP741</th><th scope=col>MAP732</th><th scope=col>MAP888</th><th scope=col>MAP942</th><th scope=col>MAP901</th><th scope=col>MAP880</th><th scope=col>MAP886</th><th scope=col>MAP944</th><th scope=col>MAP775</th></tr></thead>\n",
       "<tbody>\n",
       "\t<tr><th scope=row>Map_K10_VBC_CLI:6008_C/T</th><td>0          </td><td>0          </td><td>0          </td><td>0.003636364</td><td>0          </td><td>0          </td><td>0.00000000 </td><td>0.00000000 </td><td>0.000000000</td><td>0          </td><td>...        </td><td>0          </td><td>0.9950739  </td><td>0          </td><td>0          </td><td>0.000000000</td><td>0.000000000</td><td>0          </td><td>0          </td><td>0          </td><td>0          </td></tr>\n",
       "\t<tr><th scope=row>Map_K10_VBC_CLI:9890_C/T</th><td>0          </td><td>0          </td><td>0          </td><td>0.000000000</td><td>0          </td><td>0          </td><td>0.00000000 </td><td>0.00000000 </td><td>0.000000000</td><td>0          </td><td>...        </td><td>0          </td><td>0.0000000  </td><td>0          </td><td>0          </td><td>1.000000000</td><td>0.000000000</td><td>0          </td><td>0          </td><td>0          </td><td>0          </td></tr>\n",
       "\t<tr><th scope=row>Map_K10_VBC_CLI:10583_G/A</th><td>0          </td><td>0          </td><td>0          </td><td>0.000000000</td><td>0          </td><td>0          </td><td>0.01428571 </td><td>0.01136364 </td><td>0.000000000</td><td>0          </td><td>...        </td><td>0          </td><td>0.0000000  </td><td>0          </td><td>0          </td><td>0.000000000</td><td>0.000000000</td><td>0          </td><td>0          </td><td>0          </td><td>0          </td></tr>\n",
       "\t<tr><th scope=row>Map_K10_VBC_CLI:16181_A/G</th><td>0          </td><td>0          </td><td>0          </td><td>0.000000000</td><td>0          </td><td>0          </td><td>0.00000000 </td><td>0.00000000 </td><td>0.000000000</td><td>0          </td><td>...        </td><td>0          </td><td>0.0000000  </td><td>0          </td><td>0          </td><td>0.002252252</td><td>0.000000000</td><td>0          </td><td>0          </td><td>0          </td><td>0          </td></tr>\n",
       "\t<tr><th scope=row>Map_K10_VBC_CLI:23889_T/C</th><td>0          </td><td>0          </td><td>0          </td><td>0.000000000</td><td>0          </td><td>0          </td><td>0.00000000 </td><td>0.00000000 </td><td>0.006535948</td><td>0          </td><td>...        </td><td>0          </td><td>0.0000000  </td><td>0          </td><td>0          </td><td>0.000000000</td><td>0.003389831</td><td>0          </td><td>0          </td><td>0          </td><td>0          </td></tr>\n",
       "\t<tr><th scope=row>Map_K10_VBC_CLI:28335_G/A</th><td>0          </td><td>0          </td><td>0          </td><td>0.000000000</td><td>0          </td><td>0          </td><td>0.00000000 </td><td>0.00000000 </td><td>0.000000000</td><td>0          </td><td>...        </td><td>0          </td><td>1.0000000  </td><td>0          </td><td>0          </td><td>0.000000000</td><td>0.000000000</td><td>0          </td><td>0          </td><td>0          </td><td>0          </td></tr>\n",
       "</tbody>\n",
       "</table>\n"
      ],
      "text/latex": [
       "\\begin{tabular}{r|llllllllllllllllllllllllllllllllllllllllllllllllllllllllllllllllllllllllllllllllllllllllllllllllllllllllll}\n",
       "  & MAP727 & MAP879 & MAP792 & MAP897 & MAP766 & MAP785 & MAP776 & MAP779 & MAP705 & MAP789 & ... & MAP733 & MAP741 & MAP732 & MAP888 & MAP942 & MAP901 & MAP880 & MAP886 & MAP944 & MAP775\\\\\n",
       "\\hline\n",
       "\tMap\\_K10\\_VBC\\_CLI:6008\\_C/T & 0           & 0           & 0           & 0.003636364 & 0           & 0           & 0.00000000  & 0.00000000  & 0.000000000 & 0           & ...         & 0           & 0.9950739   & 0           & 0           & 0.000000000 & 0.000000000 & 0           & 0           & 0           & 0          \\\\\n",
       "\tMap\\_K10\\_VBC\\_CLI:9890\\_C/T & 0           & 0           & 0           & 0.000000000 & 0           & 0           & 0.00000000  & 0.00000000  & 0.000000000 & 0           & ...         & 0           & 0.0000000   & 0           & 0           & 1.000000000 & 0.000000000 & 0           & 0           & 0           & 0          \\\\\n",
       "\tMap\\_K10\\_VBC\\_CLI:10583\\_G/A & 0           & 0           & 0           & 0.000000000 & 0           & 0           & 0.01428571  & 0.01136364  & 0.000000000 & 0           & ...         & 0           & 0.0000000   & 0           & 0           & 0.000000000 & 0.000000000 & 0           & 0           & 0           & 0          \\\\\n",
       "\tMap\\_K10\\_VBC\\_CLI:16181\\_A/G & 0           & 0           & 0           & 0.000000000 & 0           & 0           & 0.00000000  & 0.00000000  & 0.000000000 & 0           & ...         & 0           & 0.0000000   & 0           & 0           & 0.002252252 & 0.000000000 & 0           & 0           & 0           & 0          \\\\\n",
       "\tMap\\_K10\\_VBC\\_CLI:23889\\_T/C & 0           & 0           & 0           & 0.000000000 & 0           & 0           & 0.00000000  & 0.00000000  & 0.006535948 & 0           & ...         & 0           & 0.0000000   & 0           & 0           & 0.000000000 & 0.003389831 & 0           & 0           & 0           & 0          \\\\\n",
       "\tMap\\_K10\\_VBC\\_CLI:28335\\_G/A & 0           & 0           & 0           & 0.000000000 & 0           & 0           & 0.00000000  & 0.00000000  & 0.000000000 & 0           & ...         & 0           & 1.0000000   & 0           & 0           & 0.000000000 & 0.000000000 & 0           & 0           & 0           & 0          \\\\\n",
       "\\end{tabular}\n"
      ],
      "text/markdown": [
       "\n",
       "| <!--/--> | MAP727 | MAP879 | MAP792 | MAP897 | MAP766 | MAP785 | MAP776 | MAP779 | MAP705 | MAP789 | ... | MAP733 | MAP741 | MAP732 | MAP888 | MAP942 | MAP901 | MAP880 | MAP886 | MAP944 | MAP775 |\n",
       "|---|---|---|---|---|---|---|---|---|---|---|---|---|---|---|---|---|---|---|---|---|---|\n",
       "| Map_K10_VBC_CLI:6008_C/T | 0           | 0           | 0           | 0.003636364 | 0           | 0           | 0.00000000  | 0.00000000  | 0.000000000 | 0           | ...         | 0           | 0.9950739   | 0           | 0           | 0.000000000 | 0.000000000 | 0           | 0           | 0           | 0           |\n",
       "| Map_K10_VBC_CLI:9890_C/T | 0           | 0           | 0           | 0.000000000 | 0           | 0           | 0.00000000  | 0.00000000  | 0.000000000 | 0           | ...         | 0           | 0.0000000   | 0           | 0           | 1.000000000 | 0.000000000 | 0           | 0           | 0           | 0           |\n",
       "| Map_K10_VBC_CLI:10583_G/A | 0           | 0           | 0           | 0.000000000 | 0           | 0           | 0.01428571  | 0.01136364  | 0.000000000 | 0           | ...         | 0           | 0.0000000   | 0           | 0           | 0.000000000 | 0.000000000 | 0           | 0           | 0           | 0           |\n",
       "| Map_K10_VBC_CLI:16181_A/G | 0           | 0           | 0           | 0.000000000 | 0           | 0           | 0.00000000  | 0.00000000  | 0.000000000 | 0           | ...         | 0           | 0.0000000   | 0           | 0           | 0.002252252 | 0.000000000 | 0           | 0           | 0           | 0           |\n",
       "| Map_K10_VBC_CLI:23889_T/C | 0           | 0           | 0           | 0.000000000 | 0           | 0           | 0.00000000  | 0.00000000  | 0.006535948 | 0           | ...         | 0           | 0.0000000   | 0           | 0           | 0.000000000 | 0.003389831 | 0           | 0           | 0           | 0           |\n",
       "| Map_K10_VBC_CLI:28335_G/A | 0           | 0           | 0           | 0.000000000 | 0           | 0           | 0.00000000  | 0.00000000  | 0.000000000 | 0           | ...         | 0           | 1.0000000   | 0           | 0           | 0.000000000 | 0.000000000 | 0           | 0           | 0           | 0           |\n",
       "\n"
      ],
      "text/plain": [
       "                          MAP727 MAP879 MAP792 MAP897      MAP766 MAP785\n",
       "Map_K10_VBC_CLI:6008_C/T  0      0      0      0.003636364 0      0     \n",
       "Map_K10_VBC_CLI:9890_C/T  0      0      0      0.000000000 0      0     \n",
       "Map_K10_VBC_CLI:10583_G/A 0      0      0      0.000000000 0      0     \n",
       "Map_K10_VBC_CLI:16181_A/G 0      0      0      0.000000000 0      0     \n",
       "Map_K10_VBC_CLI:23889_T/C 0      0      0      0.000000000 0      0     \n",
       "Map_K10_VBC_CLI:28335_G/A 0      0      0      0.000000000 0      0     \n",
       "                          MAP776     MAP779     MAP705      MAP789 ... MAP733\n",
       "Map_K10_VBC_CLI:6008_C/T  0.00000000 0.00000000 0.000000000 0      ... 0     \n",
       "Map_K10_VBC_CLI:9890_C/T  0.00000000 0.00000000 0.000000000 0      ... 0     \n",
       "Map_K10_VBC_CLI:10583_G/A 0.01428571 0.01136364 0.000000000 0      ... 0     \n",
       "Map_K10_VBC_CLI:16181_A/G 0.00000000 0.00000000 0.000000000 0      ... 0     \n",
       "Map_K10_VBC_CLI:23889_T/C 0.00000000 0.00000000 0.006535948 0      ... 0     \n",
       "Map_K10_VBC_CLI:28335_G/A 0.00000000 0.00000000 0.000000000 0      ... 0     \n",
       "                          MAP741    MAP732 MAP888 MAP942      MAP901     \n",
       "Map_K10_VBC_CLI:6008_C/T  0.9950739 0      0      0.000000000 0.000000000\n",
       "Map_K10_VBC_CLI:9890_C/T  0.0000000 0      0      1.000000000 0.000000000\n",
       "Map_K10_VBC_CLI:10583_G/A 0.0000000 0      0      0.000000000 0.000000000\n",
       "Map_K10_VBC_CLI:16181_A/G 0.0000000 0      0      0.002252252 0.000000000\n",
       "Map_K10_VBC_CLI:23889_T/C 0.0000000 0      0      0.000000000 0.003389831\n",
       "Map_K10_VBC_CLI:28335_G/A 1.0000000 0      0      0.000000000 0.000000000\n",
       "                          MAP880 MAP886 MAP944 MAP775\n",
       "Map_K10_VBC_CLI:6008_C/T  0      0      0      0     \n",
       "Map_K10_VBC_CLI:9890_C/T  0      0      0      0     \n",
       "Map_K10_VBC_CLI:10583_G/A 0      0      0      0     \n",
       "Map_K10_VBC_CLI:16181_A/G 0      0      0      0     \n",
       "Map_K10_VBC_CLI:23889_T/C 0      0      0      0     \n",
       "Map_K10_VBC_CLI:28335_G/A 0      0      0      0     "
      ]
     },
     "metadata": {},
     "output_type": "display_data"
    },
    {
     "data": {
      "text/html": [
       "<ol class=list-inline>\n",
       "\t<li>485</li>\n",
       "\t<li>106</li>\n",
       "</ol>\n"
      ],
      "text/latex": [
       "\\begin{enumerate*}\n",
       "\\item 485\n",
       "\\item 106\n",
       "\\end{enumerate*}\n"
      ],
      "text/markdown": [
       "1. 485\n",
       "2. 106\n",
       "\n",
       "\n"
      ],
      "text/plain": [
       "[1] 485 106"
      ]
     },
     "metadata": {},
     "output_type": "display_data"
    }
   ],
   "source": [
    "X_no_orphan <- X_selected[GT_freq$snp_id, ]\n",
    "head(X_no_orphan)\n",
    "dim(X_no_orphan)"
   ]
  },
  {
   "cell_type": "code",
   "execution_count": 59,
   "metadata": {},
   "outputs": [
    {
     "data": {
      "text/html": [
       "<ol class=list-inline>\n",
       "\t<li>482</li>\n",
       "\t<li>106</li>\n",
       "</ol>\n"
      ],
      "text/latex": [
       "\\begin{enumerate*}\n",
       "\\item 482\n",
       "\\item 106\n",
       "\\end{enumerate*}\n"
      ],
      "text/markdown": [
       "1. 482\n",
       "2. 106\n",
       "\n",
       "\n"
      ],
      "text/plain": [
       "[1] 482 106"
      ]
     },
     "metadata": {},
     "output_type": "display_data"
    },
    {
     "data": {
      "text/html": [
       "<table>\n",
       "<thead><tr><th></th><th scope=col>MAP727</th><th scope=col>MAP879</th><th scope=col>MAP792</th><th scope=col>MAP897</th><th scope=col>MAP766</th><th scope=col>MAP785</th><th scope=col>MAP776</th><th scope=col>MAP779</th><th scope=col>MAP705</th><th scope=col>MAP789</th><th scope=col>...</th><th scope=col>MAP733</th><th scope=col>MAP741</th><th scope=col>MAP732</th><th scope=col>MAP888</th><th scope=col>MAP942</th><th scope=col>MAP901</th><th scope=col>MAP880</th><th scope=col>MAP886</th><th scope=col>MAP944</th><th scope=col>MAP775</th></tr></thead>\n",
       "<tbody>\n",
       "\t<tr><th scope=row>Map_K10_VBC_CLI:6008_C/T</th><td>0          </td><td>0          </td><td>0          </td><td>0.003636364</td><td>0          </td><td>0          </td><td>0.00000000 </td><td>0.00000000 </td><td>0.000000000</td><td>0          </td><td>...        </td><td>0          </td><td>0.9950739  </td><td>0          </td><td>0          </td><td>0.000000000</td><td>0.000000000</td><td>0          </td><td>0          </td><td>0          </td><td>0          </td></tr>\n",
       "\t<tr><th scope=row>Map_K10_VBC_CLI:9890_C/T</th><td>0          </td><td>0          </td><td>0          </td><td>0.000000000</td><td>0          </td><td>0          </td><td>0.00000000 </td><td>0.00000000 </td><td>0.000000000</td><td>0          </td><td>...        </td><td>0          </td><td>0.0000000  </td><td>0          </td><td>0          </td><td>1.000000000</td><td>0.000000000</td><td>0          </td><td>0          </td><td>0          </td><td>0          </td></tr>\n",
       "\t<tr><th scope=row>Map_K10_VBC_CLI:10583_G/A</th><td>0          </td><td>0          </td><td>0          </td><td>0.000000000</td><td>0          </td><td>0          </td><td>0.01428571 </td><td>0.01136364 </td><td>0.000000000</td><td>0          </td><td>...        </td><td>0          </td><td>0.0000000  </td><td>0          </td><td>0          </td><td>0.000000000</td><td>0.000000000</td><td>0          </td><td>0          </td><td>0          </td><td>0          </td></tr>\n",
       "\t<tr><th scope=row>Map_K10_VBC_CLI:16181_A/G</th><td>0          </td><td>0          </td><td>0          </td><td>0.000000000</td><td>0          </td><td>0          </td><td>0.00000000 </td><td>0.00000000 </td><td>0.000000000</td><td>0          </td><td>...        </td><td>0          </td><td>0.0000000  </td><td>0          </td><td>0          </td><td>0.002252252</td><td>0.000000000</td><td>0          </td><td>0          </td><td>0          </td><td>0          </td></tr>\n",
       "\t<tr><th scope=row>Map_K10_VBC_CLI:23889_T/C</th><td>0          </td><td>0          </td><td>0          </td><td>0.000000000</td><td>0          </td><td>0          </td><td>0.00000000 </td><td>0.00000000 </td><td>0.006535948</td><td>0          </td><td>...        </td><td>0          </td><td>0.0000000  </td><td>0          </td><td>0          </td><td>0.000000000</td><td>0.003389831</td><td>0          </td><td>0          </td><td>0          </td><td>0          </td></tr>\n",
       "\t<tr><th scope=row>Map_K10_VBC_CLI:28335_G/A</th><td>0          </td><td>0          </td><td>0          </td><td>0.000000000</td><td>0          </td><td>0          </td><td>0.00000000 </td><td>0.00000000 </td><td>0.000000000</td><td>0          </td><td>...        </td><td>0          </td><td>1.0000000  </td><td>0          </td><td>0          </td><td>0.000000000</td><td>0.000000000</td><td>0          </td><td>0          </td><td>0          </td><td>0          </td></tr>\n",
       "</tbody>\n",
       "</table>\n"
      ],
      "text/latex": [
       "\\begin{tabular}{r|llllllllllllllllllllllllllllllllllllllllllllllllllllllllllllllllllllllllllllllllllllllllllllllllllllllllll}\n",
       "  & MAP727 & MAP879 & MAP792 & MAP897 & MAP766 & MAP785 & MAP776 & MAP779 & MAP705 & MAP789 & ... & MAP733 & MAP741 & MAP732 & MAP888 & MAP942 & MAP901 & MAP880 & MAP886 & MAP944 & MAP775\\\\\n",
       "\\hline\n",
       "\tMap\\_K10\\_VBC\\_CLI:6008\\_C/T & 0           & 0           & 0           & 0.003636364 & 0           & 0           & 0.00000000  & 0.00000000  & 0.000000000 & 0           & ...         & 0           & 0.9950739   & 0           & 0           & 0.000000000 & 0.000000000 & 0           & 0           & 0           & 0          \\\\\n",
       "\tMap\\_K10\\_VBC\\_CLI:9890\\_C/T & 0           & 0           & 0           & 0.000000000 & 0           & 0           & 0.00000000  & 0.00000000  & 0.000000000 & 0           & ...         & 0           & 0.0000000   & 0           & 0           & 1.000000000 & 0.000000000 & 0           & 0           & 0           & 0          \\\\\n",
       "\tMap\\_K10\\_VBC\\_CLI:10583\\_G/A & 0           & 0           & 0           & 0.000000000 & 0           & 0           & 0.01428571  & 0.01136364  & 0.000000000 & 0           & ...         & 0           & 0.0000000   & 0           & 0           & 0.000000000 & 0.000000000 & 0           & 0           & 0           & 0          \\\\\n",
       "\tMap\\_K10\\_VBC\\_CLI:16181\\_A/G & 0           & 0           & 0           & 0.000000000 & 0           & 0           & 0.00000000  & 0.00000000  & 0.000000000 & 0           & ...         & 0           & 0.0000000   & 0           & 0           & 0.002252252 & 0.000000000 & 0           & 0           & 0           & 0          \\\\\n",
       "\tMap\\_K10\\_VBC\\_CLI:23889\\_T/C & 0           & 0           & 0           & 0.000000000 & 0           & 0           & 0.00000000  & 0.00000000  & 0.006535948 & 0           & ...         & 0           & 0.0000000   & 0           & 0           & 0.000000000 & 0.003389831 & 0           & 0           & 0           & 0          \\\\\n",
       "\tMap\\_K10\\_VBC\\_CLI:28335\\_G/A & 0           & 0           & 0           & 0.000000000 & 0           & 0           & 0.00000000  & 0.00000000  & 0.000000000 & 0           & ...         & 0           & 1.0000000   & 0           & 0           & 0.000000000 & 0.000000000 & 0           & 0           & 0           & 0          \\\\\n",
       "\\end{tabular}\n"
      ],
      "text/markdown": [
       "\n",
       "| <!--/--> | MAP727 | MAP879 | MAP792 | MAP897 | MAP766 | MAP785 | MAP776 | MAP779 | MAP705 | MAP789 | ... | MAP733 | MAP741 | MAP732 | MAP888 | MAP942 | MAP901 | MAP880 | MAP886 | MAP944 | MAP775 |\n",
       "|---|---|---|---|---|---|---|---|---|---|---|---|---|---|---|---|---|---|---|---|---|---|\n",
       "| Map_K10_VBC_CLI:6008_C/T | 0           | 0           | 0           | 0.003636364 | 0           | 0           | 0.00000000  | 0.00000000  | 0.000000000 | 0           | ...         | 0           | 0.9950739   | 0           | 0           | 0.000000000 | 0.000000000 | 0           | 0           | 0           | 0           |\n",
       "| Map_K10_VBC_CLI:9890_C/T | 0           | 0           | 0           | 0.000000000 | 0           | 0           | 0.00000000  | 0.00000000  | 0.000000000 | 0           | ...         | 0           | 0.0000000   | 0           | 0           | 1.000000000 | 0.000000000 | 0           | 0           | 0           | 0           |\n",
       "| Map_K10_VBC_CLI:10583_G/A | 0           | 0           | 0           | 0.000000000 | 0           | 0           | 0.01428571  | 0.01136364  | 0.000000000 | 0           | ...         | 0           | 0.0000000   | 0           | 0           | 0.000000000 | 0.000000000 | 0           | 0           | 0           | 0           |\n",
       "| Map_K10_VBC_CLI:16181_A/G | 0           | 0           | 0           | 0.000000000 | 0           | 0           | 0.00000000  | 0.00000000  | 0.000000000 | 0           | ...         | 0           | 0.0000000   | 0           | 0           | 0.002252252 | 0.000000000 | 0           | 0           | 0           | 0           |\n",
       "| Map_K10_VBC_CLI:23889_T/C | 0           | 0           | 0           | 0.000000000 | 0           | 0           | 0.00000000  | 0.00000000  | 0.006535948 | 0           | ...         | 0           | 0.0000000   | 0           | 0           | 0.000000000 | 0.003389831 | 0           | 0           | 0           | 0           |\n",
       "| Map_K10_VBC_CLI:28335_G/A | 0           | 0           | 0           | 0.000000000 | 0           | 0           | 0.00000000  | 0.00000000  | 0.000000000 | 0           | ...         | 0           | 1.0000000   | 0           | 0           | 0.000000000 | 0.000000000 | 0           | 0           | 0           | 0           |\n",
       "\n"
      ],
      "text/plain": [
       "                          MAP727 MAP879 MAP792 MAP897      MAP766 MAP785\n",
       "Map_K10_VBC_CLI:6008_C/T  0      0      0      0.003636364 0      0     \n",
       "Map_K10_VBC_CLI:9890_C/T  0      0      0      0.000000000 0      0     \n",
       "Map_K10_VBC_CLI:10583_G/A 0      0      0      0.000000000 0      0     \n",
       "Map_K10_VBC_CLI:16181_A/G 0      0      0      0.000000000 0      0     \n",
       "Map_K10_VBC_CLI:23889_T/C 0      0      0      0.000000000 0      0     \n",
       "Map_K10_VBC_CLI:28335_G/A 0      0      0      0.000000000 0      0     \n",
       "                          MAP776     MAP779     MAP705      MAP789 ... MAP733\n",
       "Map_K10_VBC_CLI:6008_C/T  0.00000000 0.00000000 0.000000000 0      ... 0     \n",
       "Map_K10_VBC_CLI:9890_C/T  0.00000000 0.00000000 0.000000000 0      ... 0     \n",
       "Map_K10_VBC_CLI:10583_G/A 0.01428571 0.01136364 0.000000000 0      ... 0     \n",
       "Map_K10_VBC_CLI:16181_A/G 0.00000000 0.00000000 0.000000000 0      ... 0     \n",
       "Map_K10_VBC_CLI:23889_T/C 0.00000000 0.00000000 0.006535948 0      ... 0     \n",
       "Map_K10_VBC_CLI:28335_G/A 0.00000000 0.00000000 0.000000000 0      ... 0     \n",
       "                          MAP741    MAP732 MAP888 MAP942      MAP901     \n",
       "Map_K10_VBC_CLI:6008_C/T  0.9950739 0      0      0.000000000 0.000000000\n",
       "Map_K10_VBC_CLI:9890_C/T  0.0000000 0      0      1.000000000 0.000000000\n",
       "Map_K10_VBC_CLI:10583_G/A 0.0000000 0      0      0.000000000 0.000000000\n",
       "Map_K10_VBC_CLI:16181_A/G 0.0000000 0      0      0.002252252 0.000000000\n",
       "Map_K10_VBC_CLI:23889_T/C 0.0000000 0      0      0.000000000 0.003389831\n",
       "Map_K10_VBC_CLI:28335_G/A 1.0000000 0      0      0.000000000 0.000000000\n",
       "                          MAP880 MAP886 MAP944 MAP775\n",
       "Map_K10_VBC_CLI:6008_C/T  0      0      0      0     \n",
       "Map_K10_VBC_CLI:9890_C/T  0      0      0      0     \n",
       "Map_K10_VBC_CLI:10583_G/A 0      0      0      0     \n",
       "Map_K10_VBC_CLI:16181_A/G 0      0      0      0     \n",
       "Map_K10_VBC_CLI:23889_T/C 0      0      0      0     \n",
       "Map_K10_VBC_CLI:28335_G/A 0      0      0      0     "
      ]
     },
     "metadata": {},
     "output_type": "display_data"
    }
   ],
   "source": [
    "X_no_orphan <- X_no_orphan[which(rowSums(X_no_orphan) != 0),] # remove snps without any samples\n",
    "dim(X_no_orphan)\n",
    "head(X_no_orphan)"
   ]
  },
  {
   "cell_type": "code",
   "execution_count": 67,
   "metadata": {},
   "outputs": [],
   "source": [
    "set.seed(1)\n",
    "u <- irlba(X_no_orphan, nu = 1, nv = 10)$v\n",
    "y_tsne <- Rtsne(u, check_duplicates = FALSE)$Y"
   ]
  },
  {
   "cell_type": "code",
   "execution_count": 68,
   "metadata": {},
   "outputs": [
    {
     "data": {
      "text/html": [
       "<table>\n",
       "<thead><tr><th scope=col>x</th><th scope=col>y</th><th scope=col>cow_id</th><th scope=col>type_1</th><th scope=col>type_2</th><th scope=col>farm</th><th scope=col>contamination</th><th scope=col>date</th><th scope=col>state</th><th scope=col>mix</th></tr></thead>\n",
       "<tbody>\n",
       "\t<tr><td>-3.894438    </td><td>-1.933874    </td><td>1950         </td><td>fecal        </td><td>fecal        </td><td>1            </td><td>0            </td><td>2007         </td><td>MN           </td><td>0            </td></tr>\n",
       "\t<tr><td> 1.859161    </td><td> 1.642546    </td><td>9999         </td><td>environmental</td><td>fecal        </td><td>6            </td><td>0            </td><td>2005         </td><td>MN           </td><td>0            </td></tr>\n",
       "\t<tr><td>-2.665734    </td><td> 2.376598    </td><td>  39         </td><td>fecal        </td><td>fecal        </td><td>2            </td><td>0            </td><td>2008         </td><td>MN           </td><td>0            </td></tr>\n",
       "\t<tr><td> 2.383954    </td><td> 2.050173    </td><td>  61         </td><td>fecal        </td><td>fecal        </td><td>6            </td><td>0            </td><td>2007         </td><td>MN           </td><td>0            </td></tr>\n",
       "\t<tr><td>-2.310925    </td><td> 2.232815    </td><td> 997         </td><td>fecal        </td><td>fecal        </td><td>2            </td><td>0            </td><td>2005         </td><td>MN           </td><td>0            </td></tr>\n",
       "\t<tr><td>-3.343552    </td><td>-1.747599    </td><td> 267         </td><td>fecal        </td><td>fecal        </td><td>2            </td><td>0            </td><td>2007         </td><td>MN           </td><td>0            </td></tr>\n",
       "</tbody>\n",
       "</table>\n"
      ],
      "text/latex": [
       "\\begin{tabular}{r|llllllllll}\n",
       " x & y & cow\\_id & type\\_1 & type\\_2 & farm & contamination & date & state & mix\\\\\n",
       "\\hline\n",
       "\t -3.894438     & -1.933874     & 1950          & fecal         & fecal         & 1             & 0             & 2007          & MN            & 0            \\\\\n",
       "\t  1.859161     &  1.642546     & 9999          & environmental & fecal         & 6             & 0             & 2005          & MN            & 0            \\\\\n",
       "\t -2.665734     &  2.376598     &   39          & fecal         & fecal         & 2             & 0             & 2008          & MN            & 0            \\\\\n",
       "\t  2.383954     &  2.050173     &   61          & fecal         & fecal         & 6             & 0             & 2007          & MN            & 0            \\\\\n",
       "\t -2.310925     &  2.232815     &  997          & fecal         & fecal         & 2             & 0             & 2005          & MN            & 0            \\\\\n",
       "\t -3.343552     & -1.747599     &  267          & fecal         & fecal         & 2             & 0             & 2007          & MN            & 0            \\\\\n",
       "\\end{tabular}\n"
      ],
      "text/markdown": [
       "\n",
       "| x | y | cow_id | type_1 | type_2 | farm | contamination | date | state | mix |\n",
       "|---|---|---|---|---|---|---|---|---|---|\n",
       "| -3.894438     | -1.933874     | 1950          | fecal         | fecal         | 1             | 0             | 2007          | MN            | 0             |\n",
       "|  1.859161     |  1.642546     | 9999          | environmental | fecal         | 6             | 0             | 2005          | MN            | 0             |\n",
       "| -2.665734     |  2.376598     |   39          | fecal         | fecal         | 2             | 0             | 2008          | MN            | 0             |\n",
       "|  2.383954     |  2.050173     |   61          | fecal         | fecal         | 6             | 0             | 2007          | MN            | 0             |\n",
       "| -2.310925     |  2.232815     |  997          | fecal         | fecal         | 2             | 0             | 2005          | MN            | 0             |\n",
       "| -3.343552     | -1.747599     |  267          | fecal         | fecal         | 2             | 0             | 2007          | MN            | 0             |\n",
       "\n"
      ],
      "text/plain": [
       "  x         y         cow_id type_1        type_2 farm contamination date state\n",
       "1 -3.894438 -1.933874 1950   fecal         fecal  1    0             2007 MN   \n",
       "2  1.859161  1.642546 9999   environmental fecal  6    0             2005 MN   \n",
       "3 -2.665734  2.376598   39   fecal         fecal  2    0             2008 MN   \n",
       "4  2.383954  2.050173   61   fecal         fecal  6    0             2007 MN   \n",
       "5 -2.310925  2.232815  997   fecal         fecal  2    0             2005 MN   \n",
       "6 -3.343552 -1.747599  267   fecal         fecal  2    0             2007 MN   \n",
       "  mix\n",
       "1 0  \n",
       "2 0  \n",
       "3 0  \n",
       "4 0  \n",
       "5 0  \n",
       "6 0  "
      ]
     },
     "metadata": {},
     "output_type": "display_data"
    }
   ],
   "source": [
    "d <- data.frame(\n",
    "    x = y_tsne[, 1], \n",
    "    y = y_tsne[, 2],\n",
    "    cow_id = meta_selected$CowID,\n",
    "    type_1 = meta_selected$Type %>% factor(),\n",
    "    type_2 = meta_selected$Type2 %>% factor(),\n",
    "    farm = meta_selected$Farm %>% factor(),\n",
    "    contamination = meta_selected$Contamination %>% factor(),\n",
    "    date = meta_selected$Date %>% factor(),\n",
    "    state = meta_selected$State %>% factor(),\n",
    "    mix = meta_selected$Mix %>% factor()\n",
    ")\n",
    "head(d)"
   ]
  },
  {
   "cell_type": "code",
   "execution_count": 69,
   "metadata": {},
   "outputs": [
    {
     "data": {
      "text/plain": [
       "\n",
       "   2005    2006    2007    2008    2009     999 unknown \n",
       "      5      39      20      22      16       3       1 "
      ]
     },
     "metadata": {},
     "output_type": "display_data"
    }
   ],
   "source": [
    "table(d$date)"
   ]
  },
  {
   "cell_type": "code",
   "execution_count": 70,
   "metadata": {},
   "outputs": [
    {
     "data": {
      "image/png": "[encoded data removed]",
      "text/plain": [
       "plot without title"
      ]
     },
     "metadata": {},
     "output_type": "display_data"
    }
   ],
   "source": [
    "options(repr.plot.width=6, repr.plot.height=4)\n",
    "d %>% \n",
    "    ggplot(aes(x = x, y = y, color = date)) + \n",
    "    geom_point(size = 0.75) \n",
    "#+\n",
    " #   scale_colour_gradient2()"
   ]
  },
  {
   "cell_type": "code",
   "execution_count": 71,
   "metadata": {},
   "outputs": [
    {
     "data": {
      "text/plain": [
       "w\n",
       "  0   1   2   3   4   5   6   7  10  19  26 \n",
       "336 106  13  12   3   5   1   3   1   1   1 "
      ]
     },
     "metadata": {},
     "output_type": "display_data"
    }
   ],
   "source": [
    "w <- rowSums(X_no_orphan > 0.1 & X_no_orphan < 0.9)\n",
    "table(w)"
   ]
  },
  {
   "cell_type": "code",
   "execution_count": 72,
   "metadata": {},
   "outputs": [
    {
     "data": {
      "text/html": [
       "<table>\n",
       "<thead><tr><th></th><th scope=col>x</th><th scope=col>y</th><th scope=col>n_heterozygous</th><th scope=col>n_heterozygous_weight</th></tr></thead>\n",
       "<tbody>\n",
       "\t<tr><th scope=row>MAP727</th><td>-3.894438</td><td>-1.933874</td><td>0        </td><td>0.00000  </td></tr>\n",
       "\t<tr><th scope=row>MAP879</th><td> 1.859161</td><td> 1.642546</td><td>0        </td><td>0.00000  </td></tr>\n",
       "\t<tr><th scope=row>MAP792</th><td>-2.665734</td><td> 2.376598</td><td>4        </td><td>1.37037  </td></tr>\n",
       "\t<tr><th scope=row>MAP897</th><td> 2.383954</td><td> 2.050173</td><td>0        </td><td>0.00000  </td></tr>\n",
       "\t<tr><th scope=row>MAP766</th><td>-2.310925</td><td> 2.232815</td><td>1        </td><td>0.50000  </td></tr>\n",
       "\t<tr><th scope=row>MAP785</th><td>-3.343552</td><td>-1.747599</td><td>1        </td><td>0.05000  </td></tr>\n",
       "</tbody>\n",
       "</table>\n"
      ],
      "text/latex": [
       "\\begin{tabular}{r|llll}\n",
       "  & x & y & n\\_heterozygous & n\\_heterozygous\\_weight\\\\\n",
       "\\hline\n",
       "\tMAP727 & -3.894438 & -1.933874 & 0         & 0.00000  \\\\\n",
       "\tMAP879 &  1.859161 &  1.642546 & 0         & 0.00000  \\\\\n",
       "\tMAP792 & -2.665734 &  2.376598 & 4         & 1.37037  \\\\\n",
       "\tMAP897 &  2.383954 &  2.050173 & 0         & 0.00000  \\\\\n",
       "\tMAP766 & -2.310925 &  2.232815 & 1         & 0.50000  \\\\\n",
       "\tMAP785 & -3.343552 & -1.747599 & 1         & 0.05000  \\\\\n",
       "\\end{tabular}\n"
      ],
      "text/markdown": [
       "\n",
       "| <!--/--> | x | y | n_heterozygous | n_heterozygous_weight |\n",
       "|---|---|---|---|---|\n",
       "| MAP727 | -3.894438 | -1.933874 | 0         | 0.00000   |\n",
       "| MAP879 |  1.859161 |  1.642546 | 0         | 0.00000   |\n",
       "| MAP792 | -2.665734 |  2.376598 | 4         | 1.37037   |\n",
       "| MAP897 |  2.383954 |  2.050173 | 0         | 0.00000   |\n",
       "| MAP766 | -2.310925 |  2.232815 | 1         | 0.50000   |\n",
       "| MAP785 | -3.343552 | -1.747599 | 1         | 0.05000   |\n",
       "\n"
      ],
      "text/plain": [
       "       x         y         n_heterozygous n_heterozygous_weight\n",
       "MAP727 -3.894438 -1.933874 0              0.00000              \n",
       "MAP879  1.859161  1.642546 0              0.00000              \n",
       "MAP792 -2.665734  2.376598 4              1.37037              \n",
       "MAP897  2.383954  2.050173 0              0.00000              \n",
       "MAP766 -2.310925  2.232815 1              0.50000              \n",
       "MAP785 -3.343552 -1.747599 1              0.05000              "
      ]
     },
     "metadata": {},
     "output_type": "display_data"
    }
   ],
   "source": [
    "d <- data.frame(\n",
    "    x = y_tsne[, 1], \n",
    "    y = y_tsne[, 2],\n",
    "    n_heterozygous = (X_no_orphan > 0.1 & X_no_orphan < 0.9) %>% colSums(),\n",
    "    n_heterozygous_weight = ((X_no_orphan > 0.1 & X_no_orphan < 0.9) * (1 / (w + 1))) %>% colSums()\n",
    ")\n",
    "head(d)"
   ]
  },
  {
   "cell_type": "code",
   "execution_count": 73,
   "metadata": {},
   "outputs": [
    {
     "data": {
      "image/png": "[encoded data removed]",
      "text/plain": [
       "plot without title"
      ]
     },
     "metadata": {},
     "output_type": "display_data"
    },
    {
     "data": {
      "image/png": "[encoded data removed]",
      "text/plain": [
       "plot without title"
      ]
     },
     "metadata": {},
     "output_type": "display_data"
    }
   ],
   "source": [
    "options(repr.plot.width=6, repr.plot.height=4)\n",
    "d %>% \n",
    "    ggplot(aes(x = x, y = y, color = n_heterozygous)) + \n",
    "    geom_point(size = 0.75) +\n",
    "    scale_colour_gradient2()\n",
    "d %>% \n",
    "    ggplot(aes(x = x, y = y, color = n_heterozygous_weight)) + \n",
    "    geom_point(size = 0.75) +\n",
    "    scale_colour_gradient2()"
   ]
  },
  {
   "cell_type": "code",
   "execution_count": null,
   "metadata": {},
   "outputs": [],
   "source": []
  }
 ],
 "metadata": {
  "kernelspec": {
   "display_name": "R",
   "language": "R",
   "name": "ir"
  },
  "language_info": {
   "codemirror_mode": "r",
   "file_extension": ".r",
   "mimetype": "text/x-r-source",
   "name": "R",
   "pygments_lexer": "r",
   "version": "3.6.1"
  }
 },
 "nbformat": 4,
 "nbformat_minor": 4
}
